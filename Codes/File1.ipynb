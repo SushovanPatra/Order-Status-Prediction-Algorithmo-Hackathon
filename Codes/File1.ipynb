{
 "cells": [
  {
   "cell_type": "code",
   "execution_count": 1,
   "metadata": {},
   "outputs": [],
   "source": [
    "import pandas as pd\n",
    "import numpy as np\n",
    "import seaborn as sns\n",
    "import matplotlib.pyplot as plt"
   ]
  },
  {
   "cell_type": "code",
   "execution_count": 2,
   "metadata": {},
   "outputs": [],
   "source": [
    "train=pd.read_csv('Train_Set.csv')\n",
    "test=pd.read_csv('Test_Set.csv')"
   ]
  },
  {
   "cell_type": "code",
   "execution_count": 3,
   "metadata": {},
   "outputs": [
    {
     "data": {
      "text/plain": [
       "((126363, 28), (54156, 27))"
      ]
     },
     "execution_count": 3,
     "metadata": {},
     "output_type": "execute_result"
    }
   ],
   "source": [
    "train.shape,test.shape"
   ]
  },
  {
   "cell_type": "code",
   "execution_count": 4,
   "metadata": {},
   "outputs": [
    {
     "data": {
      "text/html": [
       "<div>\n",
       "<style scoped>\n",
       "    .dataframe tbody tr th:only-of-type {\n",
       "        vertical-align: middle;\n",
       "    }\n",
       "\n",
       "    .dataframe tbody tr th {\n",
       "        vertical-align: top;\n",
       "    }\n",
       "\n",
       "    .dataframe thead th {\n",
       "        text-align: right;\n",
       "    }\n",
       "</style>\n",
       "<table border=\"1\" class=\"dataframe\">\n",
       "  <thead>\n",
       "    <tr style=\"text-align: right;\">\n",
       "      <th></th>\n",
       "      <th>0</th>\n",
       "      <th>1</th>\n",
       "      <th>2</th>\n",
       "      <th>3</th>\n",
       "      <th>4</th>\n",
       "    </tr>\n",
       "  </thead>\n",
       "  <tbody>\n",
       "    <tr>\n",
       "      <th>OrderId</th>\n",
       "      <td>2477882</td>\n",
       "      <td>2477895</td>\n",
       "      <td>2473260</td>\n",
       "      <td>2466916</td>\n",
       "      <td>2351480</td>\n",
       "    </tr>\n",
       "    <tr>\n",
       "      <th>Customer_Id</th>\n",
       "      <td>12386</td>\n",
       "      <td>2630</td>\n",
       "      <td>1752</td>\n",
       "      <td>9268</td>\n",
       "      <td>2888</td>\n",
       "    </tr>\n",
       "    <tr>\n",
       "      <th>Customer_Category</th>\n",
       "      <td>Consumer</td>\n",
       "      <td>Consumer</td>\n",
       "      <td>Corporate</td>\n",
       "      <td>Consumer</td>\n",
       "      <td>Corporate</td>\n",
       "    </tr>\n",
       "    <tr>\n",
       "      <th>Cust_State</th>\n",
       "      <td>AR</td>\n",
       "      <td>BR</td>\n",
       "      <td>RJ</td>\n",
       "      <td>UP</td>\n",
       "      <td>UP</td>\n",
       "    </tr>\n",
       "    <tr>\n",
       "      <th>Zipcode</th>\n",
       "      <td>19120</td>\n",
       "      <td>2907</td>\n",
       "      <td>90214</td>\n",
       "      <td>745</td>\n",
       "      <td>92427</td>\n",
       "    </tr>\n",
       "    <tr>\n",
       "      <th>Sales</th>\n",
       "      <td>150.0</td>\n",
       "      <td>165.0</td>\n",
       "      <td>171.0</td>\n",
       "      <td>132.0</td>\n",
       "      <td>NaN</td>\n",
       "    </tr>\n",
       "    <tr>\n",
       "      <th>Order_zone</th>\n",
       "      <td>Central</td>\n",
       "      <td>East</td>\n",
       "      <td>South</td>\n",
       "      <td>East</td>\n",
       "      <td>North</td>\n",
       "    </tr>\n",
       "    <tr>\n",
       "      <th>Price</th>\n",
       "      <td>4383.39</td>\n",
       "      <td>4295.72</td>\n",
       "      <td>3616.65</td>\n",
       "      <td>9175.86</td>\n",
       "      <td>2779.29</td>\n",
       "    </tr>\n",
       "    <tr>\n",
       "      <th>CategoryName</th>\n",
       "      <td>Cat-2</td>\n",
       "      <td>Cat-2</td>\n",
       "      <td>Cat-50</td>\n",
       "      <td>Cat-12</td>\n",
       "      <td>Cat-3</td>\n",
       "    </tr>\n",
       "    <tr>\n",
       "      <th>Transcation</th>\n",
       "      <td>UPI</td>\n",
       "      <td>UPI</td>\n",
       "      <td>Cash</td>\n",
       "      <td>Credit</td>\n",
       "      <td>UPI</td>\n",
       "    </tr>\n",
       "    <tr>\n",
       "      <th>Dept_Id</th>\n",
       "      <td>4</td>\n",
       "      <td>4</td>\n",
       "      <td>7</td>\n",
       "      <td>4</td>\n",
       "      <td>5</td>\n",
       "    </tr>\n",
       "    <tr>\n",
       "      <th>Dept_Name</th>\n",
       "      <td>Apparel</td>\n",
       "      <td>Apparel</td>\n",
       "      <td>Fan Shop</td>\n",
       "      <td>Apparel</td>\n",
       "      <td>Golf</td>\n",
       "    </tr>\n",
       "    <tr>\n",
       "      <th>Profit_Ratio</th>\n",
       "      <td>0.08</td>\n",
       "      <td>0.47</td>\n",
       "      <td>0.26</td>\n",
       "      <td>0.48</td>\n",
       "      <td>0.13</td>\n",
       "    </tr>\n",
       "    <tr>\n",
       "      <th>Discount</th>\n",
       "      <td>0.1</td>\n",
       "      <td>0.16</td>\n",
       "      <td>0.07</td>\n",
       "      <td>0.18</td>\n",
       "      <td>0.16</td>\n",
       "    </tr>\n",
       "    <tr>\n",
       "      <th>Quantity</th>\n",
       "      <td>3</td>\n",
       "      <td>3</td>\n",
       "      <td>4</td>\n",
       "      <td>1</td>\n",
       "      <td>4</td>\n",
       "    </tr>\n",
       "    <tr>\n",
       "      <th>Order_Profit</th>\n",
       "      <td>352.78</td>\n",
       "      <td>2018.1</td>\n",
       "      <td>939.63</td>\n",
       "      <td>4401.74</td>\n",
       "      <td>361.7</td>\n",
       "    </tr>\n",
       "    <tr>\n",
       "      <th>Product_type</th>\n",
       "      <td>Fragile</td>\n",
       "      <td>Fragile</td>\n",
       "      <td>Not Fragile</td>\n",
       "      <td>Not Fragile</td>\n",
       "      <td>Not Fragile</td>\n",
       "    </tr>\n",
       "    <tr>\n",
       "      <th>Prod_Category_Id</th>\n",
       "      <td>17</td>\n",
       "      <td>17</td>\n",
       "      <td>46</td>\n",
       "      <td>18</td>\n",
       "      <td>29</td>\n",
       "    </tr>\n",
       "    <tr>\n",
       "      <th>ProductLength</th>\n",
       "      <td>191.0</td>\n",
       "      <td>79.0</td>\n",
       "      <td>67.0</td>\n",
       "      <td>45.0</td>\n",
       "      <td>43.0</td>\n",
       "    </tr>\n",
       "    <tr>\n",
       "      <th>ProductWeight</th>\n",
       "      <td>1592.0</td>\n",
       "      <td>1420.0</td>\n",
       "      <td>1231.0</td>\n",
       "      <td>NaN</td>\n",
       "      <td>1018.0</td>\n",
       "    </tr>\n",
       "    <tr>\n",
       "      <th>Dispatched</th>\n",
       "      <td>0</td>\n",
       "      <td>0</td>\n",
       "      <td>0</td>\n",
       "      <td>1</td>\n",
       "      <td>1</td>\n",
       "    </tr>\n",
       "    <tr>\n",
       "      <th>Shipping_Class</th>\n",
       "      <td>Standard</td>\n",
       "      <td>Standard</td>\n",
       "      <td>Standard</td>\n",
       "      <td>2A</td>\n",
       "      <td>Standard</td>\n",
       "    </tr>\n",
       "    <tr>\n",
       "      <th>Scheduled_Shipping</th>\n",
       "      <td>4</td>\n",
       "      <td>6</td>\n",
       "      <td>6</td>\n",
       "      <td>4</td>\n",
       "      <td>5</td>\n",
       "    </tr>\n",
       "    <tr>\n",
       "      <th>Warehouse_Region</th>\n",
       "      <td>NORTH</td>\n",
       "      <td>NORTH</td>\n",
       "      <td>SOUTH</td>\n",
       "      <td>NORTH</td>\n",
       "      <td>CENTRAL</td>\n",
       "    </tr>\n",
       "    <tr>\n",
       "      <th>Delivery_Review</th>\n",
       "      <td>5.0</td>\n",
       "      <td>2.0</td>\n",
       "      <td>4.0</td>\n",
       "      <td>4.0</td>\n",
       "      <td>2.0</td>\n",
       "    </tr>\n",
       "    <tr>\n",
       "      <th>Session_Ordered</th>\n",
       "      <td>2.0</td>\n",
       "      <td>2.0</td>\n",
       "      <td>2.0</td>\n",
       "      <td>3.0</td>\n",
       "      <td>1.0</td>\n",
       "    </tr>\n",
       "    <tr>\n",
       "      <th>WeekdayOrder</th>\n",
       "      <td>0</td>\n",
       "      <td>1</td>\n",
       "      <td>0</td>\n",
       "      <td>1</td>\n",
       "      <td>0</td>\n",
       "    </tr>\n",
       "    <tr>\n",
       "      <th>Delivery_Status</th>\n",
       "      <td>0</td>\n",
       "      <td>0</td>\n",
       "      <td>1</td>\n",
       "      <td>1</td>\n",
       "      <td>1</td>\n",
       "    </tr>\n",
       "  </tbody>\n",
       "</table>\n",
       "</div>"
      ],
      "text/plain": [
       "                           0         1            2            3            4\n",
       "OrderId              2477882   2477895      2473260      2466916      2351480\n",
       "Customer_Id            12386      2630         1752         9268         2888\n",
       "Customer_Category   Consumer  Consumer    Corporate     Consumer    Corporate\n",
       "Cust_State                AR        BR           RJ           UP           UP\n",
       "Zipcode                19120      2907        90214          745        92427\n",
       "Sales                  150.0     165.0        171.0        132.0          NaN\n",
       "Order_zone           Central      East        South         East        North\n",
       "Price                4383.39   4295.72      3616.65      9175.86      2779.29\n",
       "CategoryName           Cat-2     Cat-2       Cat-50       Cat-12        Cat-3\n",
       "Transcation              UPI       UPI         Cash       Credit          UPI\n",
       "Dept_Id                    4         4            7            4            5\n",
       "Dept_Name            Apparel   Apparel     Fan Shop      Apparel         Golf\n",
       "Profit_Ratio            0.08      0.47         0.26         0.48         0.13\n",
       "Discount                 0.1      0.16         0.07         0.18         0.16\n",
       "Quantity                   3         3            4            1            4\n",
       "Order_Profit          352.78    2018.1       939.63      4401.74        361.7\n",
       "Product_type         Fragile   Fragile  Not Fragile  Not Fragile  Not Fragile\n",
       "Prod_Category_Id          17        17           46           18           29\n",
       "ProductLength          191.0      79.0         67.0         45.0         43.0\n",
       "ProductWeight         1592.0    1420.0       1231.0          NaN       1018.0\n",
       "Dispatched                 0         0            0            1            1\n",
       "Shipping_Class      Standard  Standard     Standard           2A     Standard\n",
       "Scheduled_Shipping         4         6            6            4            5\n",
       "Warehouse_Region       NORTH     NORTH        SOUTH        NORTH      CENTRAL\n",
       "Delivery_Review          5.0       2.0          4.0          4.0          2.0\n",
       "Session_Ordered          2.0       2.0          2.0          3.0          1.0\n",
       "WeekdayOrder               0         1            0            1            0\n",
       "Delivery_Status            0         0            1            1            1"
      ]
     },
     "execution_count": 4,
     "metadata": {},
     "output_type": "execute_result"
    }
   ],
   "source": [
    "train.head().T"
   ]
  },
  {
   "cell_type": "code",
   "execution_count": 5,
   "metadata": {},
   "outputs": [
    {
     "data": {
      "text/html": [
       "<div>\n",
       "<style scoped>\n",
       "    .dataframe tbody tr th:only-of-type {\n",
       "        vertical-align: middle;\n",
       "    }\n",
       "\n",
       "    .dataframe tbody tr th {\n",
       "        vertical-align: top;\n",
       "    }\n",
       "\n",
       "    .dataframe thead th {\n",
       "        text-align: right;\n",
       "    }\n",
       "</style>\n",
       "<table border=\"1\" class=\"dataframe\">\n",
       "  <thead>\n",
       "    <tr style=\"text-align: right;\">\n",
       "      <th></th>\n",
       "      <th>0</th>\n",
       "      <th>1</th>\n",
       "      <th>2</th>\n",
       "      <th>3</th>\n",
       "      <th>4</th>\n",
       "    </tr>\n",
       "  </thead>\n",
       "  <tbody>\n",
       "    <tr>\n",
       "      <th>OrderId</th>\n",
       "      <td>2372881</td>\n",
       "      <td>2445349</td>\n",
       "      <td>2441537</td>\n",
       "      <td>2461867</td>\n",
       "      <td>2461659</td>\n",
       "    </tr>\n",
       "    <tr>\n",
       "      <th>Customer_Id</th>\n",
       "      <td>2989</td>\n",
       "      <td>5359</td>\n",
       "      <td>4111</td>\n",
       "      <td>5377</td>\n",
       "      <td>10563</td>\n",
       "    </tr>\n",
       "    <tr>\n",
       "      <th>Customer_Category</th>\n",
       "      <td>others</td>\n",
       "      <td>Consumer</td>\n",
       "      <td>Corporate</td>\n",
       "      <td>Consumer</td>\n",
       "      <td>Consumer</td>\n",
       "    </tr>\n",
       "    <tr>\n",
       "      <th>Cust_State</th>\n",
       "      <td>HR</td>\n",
       "      <td>MA</td>\n",
       "      <td>GJ</td>\n",
       "      <td>RJ</td>\n",
       "      <td>WB</td>\n",
       "    </tr>\n",
       "    <tr>\n",
       "      <th>Zipcode</th>\n",
       "      <td>735</td>\n",
       "      <td>737</td>\n",
       "      <td>91350</td>\n",
       "      <td>77860</td>\n",
       "      <td>47922</td>\n",
       "    </tr>\n",
       "    <tr>\n",
       "      <th>Sales</th>\n",
       "      <td>NaN</td>\n",
       "      <td>222.0</td>\n",
       "      <td>149.0</td>\n",
       "      <td>162.0</td>\n",
       "      <td>115.0</td>\n",
       "    </tr>\n",
       "    <tr>\n",
       "      <th>Order_zone</th>\n",
       "      <td>West</td>\n",
       "      <td>Central</td>\n",
       "      <td>East</td>\n",
       "      <td>North</td>\n",
       "      <td>North</td>\n",
       "    </tr>\n",
       "    <tr>\n",
       "      <th>Price</th>\n",
       "      <td>2833.08</td>\n",
       "      <td>14133.42</td>\n",
       "      <td>3545.31</td>\n",
       "      <td>9234.05</td>\n",
       "      <td>9174.76</td>\n",
       "    </tr>\n",
       "    <tr>\n",
       "      <th>CategoryName</th>\n",
       "      <td>Cat-3</td>\n",
       "      <td>Cat-49</td>\n",
       "      <td>Cat-50</td>\n",
       "      <td>Cat-12</td>\n",
       "      <td>Cat-12</td>\n",
       "    </tr>\n",
       "    <tr>\n",
       "      <th>Transcation</th>\n",
       "      <td>UPI</td>\n",
       "      <td>Debit</td>\n",
       "      <td>Credit</td>\n",
       "      <td>UPI</td>\n",
       "      <td>UPI</td>\n",
       "    </tr>\n",
       "    <tr>\n",
       "      <th>Dept_Id</th>\n",
       "      <td>5</td>\n",
       "      <td>7</td>\n",
       "      <td>7</td>\n",
       "      <td>4</td>\n",
       "      <td>4</td>\n",
       "    </tr>\n",
       "    <tr>\n",
       "      <th>Dept_Name</th>\n",
       "      <td>Golf</td>\n",
       "      <td>Fan Shop</td>\n",
       "      <td>Fan Shop</td>\n",
       "      <td>Apparel</td>\n",
       "      <td>Apparel</td>\n",
       "    </tr>\n",
       "    <tr>\n",
       "      <th>Profit_Ratio</th>\n",
       "      <td>-0.68</td>\n",
       "      <td>0.08</td>\n",
       "      <td>0.34</td>\n",
       "      <td>0.39</td>\n",
       "      <td>0.5</td>\n",
       "    </tr>\n",
       "    <tr>\n",
       "      <th>Discount</th>\n",
       "      <td>0.07</td>\n",
       "      <td>0.06</td>\n",
       "      <td>0.06</td>\n",
       "      <td>0.03</td>\n",
       "      <td>0.06</td>\n",
       "    </tr>\n",
       "    <tr>\n",
       "      <th>Quantity</th>\n",
       "      <td>5</td>\n",
       "      <td>1</td>\n",
       "      <td>3</td>\n",
       "      <td>1</td>\n",
       "      <td>1</td>\n",
       "    </tr>\n",
       "    <tr>\n",
       "      <th>Order_Profit</th>\n",
       "      <td>-1920.91</td>\n",
       "      <td>1132.14</td>\n",
       "      <td>1204.39</td>\n",
       "      <td>3600.48</td>\n",
       "      <td>4586.33</td>\n",
       "    </tr>\n",
       "    <tr>\n",
       "      <th>Product_type</th>\n",
       "      <td>Fragile</td>\n",
       "      <td>Fragile</td>\n",
       "      <td>Fragile</td>\n",
       "      <td>Not Fragile</td>\n",
       "      <td>Fragile</td>\n",
       "    </tr>\n",
       "    <tr>\n",
       "      <th>Prod_Category_Id</th>\n",
       "      <td>29</td>\n",
       "      <td>48</td>\n",
       "      <td>46</td>\n",
       "      <td>18</td>\n",
       "      <td>18</td>\n",
       "    </tr>\n",
       "    <tr>\n",
       "      <th>ProductLength</th>\n",
       "      <td>25.0</td>\n",
       "      <td>29.0</td>\n",
       "      <td>121.0</td>\n",
       "      <td>156.0</td>\n",
       "      <td>114.0</td>\n",
       "    </tr>\n",
       "    <tr>\n",
       "      <th>ProductWeight</th>\n",
       "      <td>1720.0</td>\n",
       "      <td>964.0</td>\n",
       "      <td>2994.0</td>\n",
       "      <td>1008.0</td>\n",
       "      <td>1354.0</td>\n",
       "    </tr>\n",
       "    <tr>\n",
       "      <th>Dispatched</th>\n",
       "      <td>0</td>\n",
       "      <td>1</td>\n",
       "      <td>0</td>\n",
       "      <td>0</td>\n",
       "      <td>0</td>\n",
       "    </tr>\n",
       "    <tr>\n",
       "      <th>Shipping_Class</th>\n",
       "      <td>Standard</td>\n",
       "      <td>Standard</td>\n",
       "      <td>Standard</td>\n",
       "      <td>Standard</td>\n",
       "      <td>Standard</td>\n",
       "    </tr>\n",
       "    <tr>\n",
       "      <th>Scheduled_Shipping</th>\n",
       "      <td>6</td>\n",
       "      <td>4</td>\n",
       "      <td>6</td>\n",
       "      <td>5</td>\n",
       "      <td>2</td>\n",
       "    </tr>\n",
       "    <tr>\n",
       "      <th>Warehouse_Region</th>\n",
       "      <td>NORTH</td>\n",
       "      <td>CENTRAL</td>\n",
       "      <td>WEST</td>\n",
       "      <td>CENTRAL</td>\n",
       "      <td>NE</td>\n",
       "    </tr>\n",
       "    <tr>\n",
       "      <th>Delivery_Review</th>\n",
       "      <td>5.0</td>\n",
       "      <td>3.0</td>\n",
       "      <td>3.0</td>\n",
       "      <td>3.0</td>\n",
       "      <td>3.0</td>\n",
       "    </tr>\n",
       "    <tr>\n",
       "      <th>Session_Ordered</th>\n",
       "      <td>2.0</td>\n",
       "      <td>3.0</td>\n",
       "      <td>1.0</td>\n",
       "      <td>3.0</td>\n",
       "      <td>2.0</td>\n",
       "    </tr>\n",
       "    <tr>\n",
       "      <th>WeekdayOrder</th>\n",
       "      <td>1</td>\n",
       "      <td>0</td>\n",
       "      <td>1</td>\n",
       "      <td>1</td>\n",
       "      <td>1</td>\n",
       "    </tr>\n",
       "  </tbody>\n",
       "</table>\n",
       "</div>"
      ],
      "text/plain": [
       "                           0         1          2            3         4\n",
       "OrderId              2372881   2445349    2441537      2461867   2461659\n",
       "Customer_Id             2989      5359       4111         5377     10563\n",
       "Customer_Category     others  Consumer  Corporate     Consumer  Consumer\n",
       "Cust_State                HR        MA         GJ           RJ        WB\n",
       "Zipcode                  735       737      91350        77860     47922\n",
       "Sales                    NaN     222.0      149.0        162.0     115.0\n",
       "Order_zone              West   Central       East        North     North\n",
       "Price                2833.08  14133.42    3545.31      9234.05   9174.76\n",
       "CategoryName           Cat-3    Cat-49     Cat-50       Cat-12    Cat-12\n",
       "Transcation              UPI     Debit     Credit          UPI       UPI\n",
       "Dept_Id                    5         7          7            4         4\n",
       "Dept_Name               Golf  Fan Shop   Fan Shop      Apparel   Apparel\n",
       "Profit_Ratio           -0.68      0.08       0.34         0.39       0.5\n",
       "Discount                0.07      0.06       0.06         0.03      0.06\n",
       "Quantity                   5         1          3            1         1\n",
       "Order_Profit        -1920.91   1132.14    1204.39      3600.48   4586.33\n",
       "Product_type         Fragile   Fragile    Fragile  Not Fragile   Fragile\n",
       "Prod_Category_Id          29        48         46           18        18\n",
       "ProductLength           25.0      29.0      121.0        156.0     114.0\n",
       "ProductWeight         1720.0     964.0     2994.0       1008.0    1354.0\n",
       "Dispatched                 0         1          0            0         0\n",
       "Shipping_Class      Standard  Standard   Standard     Standard  Standard\n",
       "Scheduled_Shipping         6         4          6            5         2\n",
       "Warehouse_Region       NORTH   CENTRAL       WEST      CENTRAL        NE\n",
       "Delivery_Review          5.0       3.0        3.0          3.0       3.0\n",
       "Session_Ordered          2.0       3.0        1.0          3.0       2.0\n",
       "WeekdayOrder               1         0          1            1         1"
      ]
     },
     "execution_count": 5,
     "metadata": {},
     "output_type": "execute_result"
    }
   ],
   "source": [
    "test.head().T"
   ]
  },
  {
   "cell_type": "markdown",
   "metadata": {},
   "source": [
    "#### EDA"
   ]
  },
  {
   "cell_type": "code",
   "execution_count": 6,
   "metadata": {},
   "outputs": [
    {
     "data": {
      "text/plain": [
       "16707"
      ]
     },
     "execution_count": 6,
     "metadata": {},
     "output_type": "execute_result"
    }
   ],
   "source": [
    "len(train.Customer_Id.unique())"
   ]
  },
  {
   "cell_type": "code",
   "execution_count": 7,
   "metadata": {},
   "outputs": [
    {
     "data": {
      "text/plain": [
       "126363"
      ]
     },
     "execution_count": 7,
     "metadata": {},
     "output_type": "execute_result"
    }
   ],
   "source": [
    "len(train.OrderId.unique())"
   ]
  },
  {
   "cell_type": "code",
   "execution_count": 8,
   "metadata": {},
   "outputs": [
    {
     "name": "stdout",
     "output_type": "stream",
     "text": [
      "Consumer     65464\n",
      "Corporate    38360\n",
      "others       22539\n",
      "Name: Customer_Category, dtype: int64\n"
     ]
    },
    {
     "data": {
      "text/plain": [
       "<matplotlib.axes._subplots.AxesSubplot at 0x19735a2ea60>"
      ]
     },
     "execution_count": 8,
     "metadata": {},
     "output_type": "execute_result"
    },
    {
     "data": {
      "image/png": "[encoded data removed]",
      "text/plain": [
       "<Figure size 432x288 with 1 Axes>"
      ]
     },
     "metadata": {
      "needs_background": "light"
     },
     "output_type": "display_data"
    }
   ],
   "source": [
    "print(train['Customer_Category'].value_counts())\n",
    "sns.countplot(train['Customer_Category'])"
   ]
  },
  {
   "cell_type": "code",
   "execution_count": 9,
   "metadata": {},
   "outputs": [
    {
     "name": "stdout",
     "output_type": "stream",
     "text": [
      "AR     7105\n",
      "RJ     7104\n",
      "MP     7077\n",
      "JK     7072\n",
      "AP     7065\n",
      "PB     7046\n",
      "MA     7041\n",
      "HP     7032\n",
      "HR     7027\n",
      "OR     7023\n",
      "BR     7020\n",
      "TEL    7000\n",
      "KL     6980\n",
      "GJ     6979\n",
      "UP     6978\n",
      "KA     6974\n",
      "WB     6945\n",
      "UK     6895\n",
      "Name: Cust_State, dtype: int64\n"
     ]
    },
    {
     "data": {
      "text/plain": [
       "<matplotlib.axes._subplots.AxesSubplot at 0x19735ade670>"
      ]
     },
     "execution_count": 9,
     "metadata": {},
     "output_type": "execute_result"
    },
    {
     "data": {
      "image/png": "[encoded data removed]",
      "text/plain": [
       "<Figure size 432x288 with 1 Axes>"
      ]
     },
     "metadata": {
      "needs_background": "light"
     },
     "output_type": "display_data"
    }
   ],
   "source": [
    "print(train['Cust_State'].value_counts())\n",
    "sns.countplot(train['Cust_State'])"
   ]
  },
  {
   "cell_type": "code",
   "execution_count": 10,
   "metadata": {},
   "outputs": [
    {
     "data": {
      "text/plain": [
       "745    4335\n",
       "744    4325\n",
       "735    4321\n",
       "742    4318\n",
       "738    4271\n",
       "743    4247\n",
       "736    4228\n",
       "740    4213\n",
       "741    4166\n",
       "737    4160\n",
       "739    4119\n",
       "Name: Zipcode, dtype: int64"
      ]
     },
     "execution_count": 10,
     "metadata": {},
     "output_type": "execute_result"
    }
   ],
   "source": [
    "v=train['Zipcode'].value_counts()\n",
    "v[v>102]"
   ]
  },
  {
   "cell_type": "raw",
   "metadata": {},
   "source": [
    "print(train['Zipcode'].value_counts())\n",
    "#sns.countplot(train['Zipcode'])"
   ]
  },
  {
   "cell_type": "code",
   "execution_count": 11,
   "metadata": {},
   "outputs": [
    {
     "data": {
      "text/plain": [
       "<matplotlib.axes._subplots.AxesSubplot at 0x19735bb49a0>"
      ]
     },
     "execution_count": 11,
     "metadata": {},
     "output_type": "execute_result"
    },
    {
     "data": {
      "image/png": "[encoded data removed]",
      "text/plain": [
       "<Figure size 1152x432 with 1 Axes>"
      ]
     },
     "metadata": {
      "needs_background": "light"
     },
     "output_type": "display_data"
    }
   ],
   "source": [
    "plt.figure(figsize=(16,6))\n",
    "sns.lineplot(v[v<102].index,v[v<102].values)"
   ]
  },
  {
   "cell_type": "code",
   "execution_count": 12,
   "metadata": {},
   "outputs": [
    {
     "name": "stdout",
     "output_type": "stream",
     "text": [
      "North      25375\n",
      "South      25327\n",
      "East       25257\n",
      "Central    25230\n",
      "West       25174\n",
      "Name: Order_zone, dtype: int64\n"
     ]
    },
    {
     "data": {
      "text/plain": [
       "<matplotlib.axes._subplots.AxesSubplot at 0x19735c785e0>"
      ]
     },
     "execution_count": 12,
     "metadata": {},
     "output_type": "execute_result"
    },
    {
     "data": {
      "image/png": "[encoded data removed]",
      "text/plain": [
       "<Figure size 432x288 with 1 Axes>"
      ]
     },
     "metadata": {
      "needs_background": "light"
     },
     "output_type": "display_data"
    }
   ],
   "source": [
    "print(train['Order_zone'].value_counts())\n",
    "sns.countplot(train['Order_zone'])"
   ]
  },
  {
   "cell_type": "code",
   "execution_count": 13,
   "metadata": {},
   "outputs": [
    {
     "name": "stdout",
     "output_type": "stream",
     "text": [
      "Cat-2     17297\n",
      "Cat-12    15489\n",
      "Cat-4     14762\n",
      "Cat-50    13551\n",
      "Cat-32    12223\n",
      "Cat-49    10810\n",
      "Cat-13     9564\n",
      "Cat-7      8735\n",
      "Cat-3      7593\n",
      "Cat-5      2203\n",
      "Cat-20     1232\n",
      "Cat-27     1016\n",
      "Cat-19      854\n",
      "Cat-42      799\n",
      "Cat-8       667\n",
      "Cat-41      609\n",
      "Cat-11      458\n",
      "Cat-21      448\n",
      "Cat-29      447\n",
      "Cat-37      418\n",
      "Cat-15      405\n",
      "Cat-48      375\n",
      "Cat-44      365\n",
      "Cat-22      358\n",
      "Cat-36      345\n",
      "Cat-38      336\n",
      "Cat-34      335\n",
      "Cat-45      317\n",
      "Cat-10      311\n",
      "Cat-40      309\n",
      "Cat-16      305\n",
      "Cat-6       304\n",
      "Cat-14      304\n",
      "Cat-33      272\n",
      "Cat-1       265\n",
      "Cat-9       262\n",
      "Cat-39      243\n",
      "Cat-30      230\n",
      "Cat-24      222\n",
      "Cat-47      202\n",
      "Cat-25      202\n",
      "Cat-35      202\n",
      "Cat-23      152\n",
      "Cat-31      137\n",
      "Cat-46      124\n",
      "Cat-18       92\n",
      "Cat-28       82\n",
      "Cat-17       51\n",
      "Cat-43       41\n",
      "Cat-26       40\n",
      "Name: CategoryName, dtype: int64\n"
     ]
    },
    {
     "data": {
      "text/plain": [
       "(array([ 0,  1,  2,  3,  4,  5,  6,  7,  8,  9, 10, 11, 12, 13, 14, 15, 16,\n",
       "        17, 18, 19, 20, 21, 22, 23, 24, 25, 26, 27, 28, 29, 30, 31, 32, 33,\n",
       "        34, 35, 36, 37, 38, 39, 40, 41, 42, 43, 44, 45, 46, 47, 48, 49]),\n",
       " <a list of 50 Text major ticklabel objects>)"
      ]
     },
     "execution_count": 13,
     "metadata": {},
     "output_type": "execute_result"
    },
    {
     "data": {
      "image/png": "[encoded data removed]",
      "text/plain": [
       "<Figure size 1152x432 with 1 Axes>"
      ]
     },
     "metadata": {
      "needs_background": "light"
     },
     "output_type": "display_data"
    }
   ],
   "source": [
    "print(train['CategoryName'].value_counts())\n",
    "plt.figure(figsize=(16,6))\n",
    "\n",
    "sns.countplot(train['CategoryName'])\n",
    "plt.xticks(rotation='vertical')"
   ]
  },
  {
   "cell_type": "code",
   "execution_count": 14,
   "metadata": {},
   "outputs": [
    {
     "name": "stdout",
     "output_type": "stream",
     "text": [
      "Debit     48586\n",
      "UPI       34947\n",
      "Credit    29113\n",
      "Cash      13717\n",
      "Name: Transcation, dtype: int64\n"
     ]
    },
    {
     "data": {
      "text/plain": [
       "<matplotlib.axes._subplots.AxesSubplot at 0x19735cd52e0>"
      ]
     },
     "execution_count": 14,
     "metadata": {},
     "output_type": "execute_result"
    },
    {
     "data": {
      "image/png": "[encoded data removed]",
      "text/plain": [
       "<Figure size 432x288 with 1 Axes>"
      ]
     },
     "metadata": {
      "needs_background": "light"
     },
     "output_type": "display_data"
    }
   ],
   "source": [
    "print(train['Transcation'].value_counts())\n",
    "sns.countplot(train['Transcation'])"
   ]
  },
  {
   "cell_type": "code",
   "execution_count": 15,
   "metadata": {},
   "outputs": [
    {
     "name": "stdout",
     "output_type": "stream",
     "text": [
      "7     46834\n",
      "4     34328\n",
      "5     23209\n",
      "3     10142\n",
      "6      6794\n",
      "2      1736\n",
      "9      1455\n",
      "10     1014\n",
      "11      336\n",
      "8       272\n",
      "12      243\n",
      "Name: Dept_Id, dtype: int64\n"
     ]
    },
    {
     "data": {
      "text/plain": [
       "<matplotlib.axes._subplots.AxesSubplot at 0x19735e651c0>"
      ]
     },
     "execution_count": 15,
     "metadata": {},
     "output_type": "execute_result"
    },
    {
     "data": {
      "image/png": "[encoded data removed]",
      "text/plain": [
       "<Figure size 432x288 with 1 Axes>"
      ]
     },
     "metadata": {
      "needs_background": "light"
     },
     "output_type": "display_data"
    }
   ],
   "source": [
    "print(train['Dept_Id'].value_counts())\n",
    "sns.countplot(train['Dept_Id'])"
   ]
  },
  {
   "cell_type": "code",
   "execution_count": 16,
   "metadata": {},
   "outputs": [
    {
     "name": "stdout",
     "output_type": "stream",
     "text": [
      "Fan Shop              46834\n",
      "Apparel               34328\n",
      "Golf                  23209\n",
      "Footwear              10142\n",
      "Outdoors               6794\n",
      "Fitness                1736\n",
      "Discs Shop             1455\n",
      "Technology             1014\n",
      "Pet Shop                336\n",
      "Book Shop               272\n",
      "Health and Beauty       243\n",
      "Name: Dept_Name, dtype: int64\n"
     ]
    },
    {
     "data": {
      "text/plain": [
       "(array([ 0,  1,  2,  3,  4,  5,  6,  7,  8,  9, 10]),\n",
       " <a list of 11 Text major ticklabel objects>)"
      ]
     },
     "execution_count": 16,
     "metadata": {},
     "output_type": "execute_result"
    },
    {
     "data": {
      "image/png": "[encoded data removed]",
      "text/plain": [
       "<Figure size 432x288 with 1 Axes>"
      ]
     },
     "metadata": {
      "needs_background": "light"
     },
     "output_type": "display_data"
    }
   ],
   "source": [
    "print(train['Dept_Name'].value_counts())\n",
    "sns.countplot(train['Dept_Name'])\n",
    "plt.xticks(rotation='vertical')"
   ]
  },
  {
   "cell_type": "code",
   "execution_count": 17,
   "metadata": {},
   "outputs": [
    {
     "name": "stdout",
     "output_type": "stream",
     "text": [
      "Not Fragile    71204\n",
      "Fragile        55159\n",
      "Name: Product_type, dtype: int64\n"
     ]
    },
    {
     "data": {
      "text/plain": [
       "<matplotlib.axes._subplots.AxesSubplot at 0x1973612b040>"
      ]
     },
     "execution_count": 17,
     "metadata": {},
     "output_type": "execute_result"
    },
    {
     "data": {
      "image/png": "[encoded data removed]",
      "text/plain": [
       "<Figure size 432x288 with 1 Axes>"
      ]
     },
     "metadata": {
      "needs_background": "light"
     },
     "output_type": "display_data"
    }
   ],
   "source": [
    "print(train['Product_type'].value_counts())\n",
    "sns.countplot(train['Product_type'])"
   ]
  },
  {
   "cell_type": "code",
   "execution_count": 18,
   "metadata": {},
   "outputs": [
    {
     "name": "stdout",
     "output_type": "stream",
     "text": [
      "17    17297\n",
      "18    15489\n",
      "24    14762\n",
      "46    13551\n",
      "45    12223\n",
      "48    10810\n",
      "43     9564\n",
      "9      8735\n",
      "29     7593\n",
      "37     1424\n",
      "40     1232\n",
      "36     1016\n",
      "26      854\n",
      "35      799\n",
      "13      779\n",
      "41      667\n",
      "75      609\n",
      "3       458\n",
      "76      448\n",
      "63      447\n",
      "7       418\n",
      "62      405\n",
      "74      375\n",
      "33      365\n",
      "66      358\n",
      "68      345\n",
      "72      336\n",
      "67      335\n",
      "32      317\n",
      "44      311\n",
      "71      309\n",
      "64      305\n",
      "65      304\n",
      "12      304\n",
      "59      272\n",
      "73      265\n",
      "38      262\n",
      "69      243\n",
      "5       230\n",
      "6       222\n",
      "61      202\n",
      "11      202\n",
      "30      202\n",
      "70      152\n",
      "60      137\n",
      "31      124\n",
      "2        92\n",
      "10       82\n",
      "4        51\n",
      "34       41\n",
      "16       40\n",
      "Name: Prod_Category_Id, dtype: int64\n"
     ]
    },
    {
     "data": {
      "text/plain": [
       "(array([ 0,  1,  2,  3,  4,  5,  6,  7,  8,  9, 10, 11, 12, 13, 14, 15, 16,\n",
       "        17, 18, 19, 20, 21, 22, 23, 24, 25, 26, 27, 28, 29, 30, 31, 32, 33,\n",
       "        34, 35, 36, 37, 38, 39, 40, 41, 42, 43, 44, 45, 46, 47, 48, 49, 50]),\n",
       " <a list of 51 Text major ticklabel objects>)"
      ]
     },
     "execution_count": 18,
     "metadata": {},
     "output_type": "execute_result"
    },
    {
     "data": {
      "image/png": "[encoded data removed]",
      "text/plain": [
       "<Figure size 1152x432 with 1 Axes>"
      ]
     },
     "metadata": {
      "needs_background": "light"
     },
     "output_type": "display_data"
    }
   ],
   "source": [
    "print(train['Prod_Category_Id'].value_counts())\n",
    "plt.figure(figsize=(16,6))\n",
    "\n",
    "sns.countplot(train['Prod_Category_Id'])\n",
    "plt.xticks(rotation='vertical')"
   ]
  },
  {
   "cell_type": "code",
   "execution_count": 19,
   "metadata": {},
   "outputs": [
    {
     "name": "stdout",
     "output_type": "stream",
     "text": [
      "0    76543\n",
      "1    49820\n",
      "Name: Dispatched, dtype: int64\n"
     ]
    },
    {
     "data": {
      "text/plain": [
       "<matplotlib.axes._subplots.AxesSubplot at 0x197362a0d60>"
      ]
     },
     "execution_count": 19,
     "metadata": {},
     "output_type": "execute_result"
    },
    {
     "data": {
      "image/png": "[encoded data removed]",
      "text/plain": [
       "<Figure size 432x288 with 1 Axes>"
      ]
     },
     "metadata": {
      "needs_background": "light"
     },
     "output_type": "display_data"
    }
   ],
   "source": [
    "print(train['Dispatched'].value_counts())\n",
    "sns.countplot(train['Dispatched'])"
   ]
  },
  {
   "cell_type": "code",
   "execution_count": 20,
   "metadata": {},
   "outputs": [
    {
     "name": "stdout",
     "output_type": "stream",
     "text": [
      "Standard    75433\n",
      "2A          24682\n",
      "1A          19427\n",
      "Elite        6821\n",
      "Name: Shipping_Class, dtype: int64\n"
     ]
    },
    {
     "data": {
      "text/plain": [
       "<matplotlib.axes._subplots.AxesSubplot at 0x197364b7ee0>"
      ]
     },
     "execution_count": 20,
     "metadata": {},
     "output_type": "execute_result"
    },
    {
     "data": {
      "image/png": "[encoded data removed]",
      "text/plain": [
       "<Figure size 432x288 with 1 Axes>"
      ]
     },
     "metadata": {
      "needs_background": "light"
     },
     "output_type": "display_data"
    }
   ],
   "source": [
    "print(train['Shipping_Class'].value_counts())\n",
    "sns.countplot(train['Shipping_Class'])"
   ]
  },
  {
   "cell_type": "code",
   "execution_count": 21,
   "metadata": {},
   "outputs": [
    {
     "name": "stdout",
     "output_type": "stream",
     "text": [
      "NORTH      36043\n",
      "CENTRAL    35194\n",
      "SOUTH      28863\n",
      "WEST       18102\n",
      "NE          8161\n",
      "Name: Warehouse_Region, dtype: int64\n"
     ]
    },
    {
     "data": {
      "text/plain": [
       "<matplotlib.axes._subplots.AxesSubplot at 0x197364fe7c0>"
      ]
     },
     "execution_count": 21,
     "metadata": {},
     "output_type": "execute_result"
    },
    {
     "data": {
      "image/png": "[encoded data removed]",
      "text/plain": [
       "<Figure size 432x288 with 1 Axes>"
      ]
     },
     "metadata": {
      "needs_background": "light"
     },
     "output_type": "display_data"
    }
   ],
   "source": [
    "print(train['Warehouse_Region'].value_counts())\n",
    "sns.countplot(train['Warehouse_Region'])"
   ]
  },
  {
   "cell_type": "code",
   "execution_count": 22,
   "metadata": {},
   "outputs": [
    {
     "name": "stdout",
     "output_type": "stream",
     "text": [
      "0    63444\n",
      "1    62919\n",
      "Name: WeekdayOrder, dtype: int64\n"
     ]
    },
    {
     "data": {
      "text/plain": [
       "<matplotlib.axes._subplots.AxesSubplot at 0x197365708b0>"
      ]
     },
     "execution_count": 22,
     "metadata": {},
     "output_type": "execute_result"
    },
    {
     "data": {
      "image/png": "[encoded data removed]",
      "text/plain": [
       "<Figure size 432x288 with 1 Axes>"
      ]
     },
     "metadata": {
      "needs_background": "light"
     },
     "output_type": "display_data"
    }
   ],
   "source": [
    "print(train['WeekdayOrder'].value_counts())\n",
    "sns.countplot(train['WeekdayOrder'])"
   ]
  },
  {
   "cell_type": "code",
   "execution_count": 23,
   "metadata": {},
   "outputs": [
    {
     "name": "stdout",
     "output_type": "stream",
     "text": [
      "0    84912\n",
      "1    41451\n",
      "Name: Delivery_Status, dtype: int64\n"
     ]
    },
    {
     "data": {
      "text/plain": [
       "<matplotlib.axes._subplots.AxesSubplot at 0x1973649e610>"
      ]
     },
     "execution_count": 23,
     "metadata": {},
     "output_type": "execute_result"
    },
    {
     "data": {
      "image/png": "[encoded data removed]",
      "text/plain": [
       "<Figure size 432x288 with 1 Axes>"
      ]
     },
     "metadata": {
      "needs_background": "light"
     },
     "output_type": "display_data"
    }
   ],
   "source": [
    "print(train['Delivery_Status'].value_counts())\n",
    "sns.countplot(train['Delivery_Status'])"
   ]
  },
  {
   "cell_type": "code",
   "execution_count": 24,
   "metadata": {},
   "outputs": [
    {
     "name": "stdout",
     "output_type": "stream",
     "text": [
      "4.0    42860\n",
      "3.0    41201\n",
      "2.0    19732\n",
      "5.0    11640\n",
      "1.0     1865\n",
      "Name: Delivery_Review, dtype: int64\n"
     ]
    },
    {
     "data": {
      "text/plain": [
       "<matplotlib.axes._subplots.AxesSubplot at 0x1973660ebb0>"
      ]
     },
     "execution_count": 24,
     "metadata": {},
     "output_type": "execute_result"
    },
    {
     "data": {
      "image/png": "[encoded data removed]",
      "text/plain": [
       "<Figure size 432x288 with 1 Axes>"
      ]
     },
     "metadata": {
      "needs_background": "light"
     },
     "output_type": "display_data"
    }
   ],
   "source": [
    "print(train['Delivery_Review'].value_counts())\n",
    "sns.countplot(train['Delivery_Review'])"
   ]
  },
  {
   "cell_type": "code",
   "execution_count": 25,
   "metadata": {},
   "outputs": [
    {
     "name": "stdout",
     "output_type": "stream",
     "text": [
      "2.0    40873\n",
      "3.0    40440\n",
      "1.0    40258\n",
      "Name: Session_Ordered, dtype: int64\n"
     ]
    },
    {
     "data": {
      "text/plain": [
       "<matplotlib.axes._subplots.AxesSubplot at 0x19736812910>"
      ]
     },
     "execution_count": 25,
     "metadata": {},
     "output_type": "execute_result"
    },
    {
     "data": {
      "image/png": "[encoded data removed]",
      "text/plain": [
       "<Figure size 432x288 with 1 Axes>"
      ]
     },
     "metadata": {
      "needs_background": "light"
     },
     "output_type": "display_data"
    }
   ],
   "source": [
    "print(train['Session_Ordered'].value_counts())\n",
    "sns.countplot(train['Session_Ordered'])"
   ]
  },
  {
   "cell_type": "code",
   "execution_count": 26,
   "metadata": {},
   "outputs": [
    {
     "name": "stdout",
     "output_type": "stream",
     "text": [
      "4    30256\n",
      "2    27604\n",
      "3    25045\n",
      "6    20138\n",
      "5    19757\n",
      "0     3563\n",
      "Name: Scheduled_Shipping, dtype: int64\n"
     ]
    },
    {
     "data": {
      "text/plain": [
       "<matplotlib.axes._subplots.AxesSubplot at 0x197368676a0>"
      ]
     },
     "execution_count": 26,
     "metadata": {},
     "output_type": "execute_result"
    },
    {
     "data": {
      "image/png": "[encoded data removed]",
      "text/plain": [
       "<Figure size 432x288 with 1 Axes>"
      ]
     },
     "metadata": {
      "needs_background": "light"
     },
     "output_type": "display_data"
    }
   ],
   "source": [
    "print(train['Scheduled_Shipping'].value_counts())\n",
    "sns.countplot(train['Scheduled_Shipping'])"
   ]
  },
  {
   "cell_type": "code",
   "execution_count": 27,
   "metadata": {},
   "outputs": [],
   "source": [
    "num=train[['Sales','Price','Profit_Ratio','Order_Profit ','Discount','Quantity','ProductLength','ProductWeight']].copy(deep=True)"
   ]
  },
  {
   "cell_type": "code",
   "execution_count": 28,
   "metadata": {},
   "outputs": [
    {
     "data": {
      "image/png": "[encoded data removed]",
      "text/plain": [
       "<Figure size 432x288 with 1 Axes>"
      ]
     },
     "metadata": {
      "needs_background": "light"
     },
     "output_type": "display_data"
    },
    {
     "data": {
      "image/png": "[encoded data removed]",
      "text/plain": [
       "<Figure size 432x288 with 1 Axes>"
      ]
     },
     "metadata": {
      "needs_background": "light"
     },
     "output_type": "display_data"
    },
    {
     "data": {
      "image/png": "[encoded data removed]",
      "text/plain": [
       "<Figure size 432x288 with 1 Axes>"
      ]
     },
     "metadata": {
      "needs_background": "light"
     },
     "output_type": "display_data"
    },
    {
     "data": {
      "image/png": "[encoded data removed]",
      "text/plain": [
       "<Figure size 432x288 with 1 Axes>"
      ]
     },
     "metadata": {
      "needs_background": "light"
     },
     "output_type": "display_data"
    },
    {
     "data": {
      "image/png": "[encoded data removed]",
      "text/plain": [
       "<Figure size 432x288 with 1 Axes>"
      ]
     },
     "metadata": {
      "needs_background": "light"
     },
     "output_type": "display_data"
    },
    {
     "data": {
      "image/png": "[encoded data removed]",
      "text/plain": [
       "<Figure size 432x288 with 1 Axes>"
      ]
     },
     "metadata": {
      "needs_background": "light"
     },
     "output_type": "display_data"
    },
    {
     "data": {
      "image/png": "[encoded data removed]",
      "text/plain": [
       "<Figure size 432x288 with 1 Axes>"
      ]
     },
     "metadata": {
      "needs_background": "light"
     },
     "output_type": "display_data"
    },
    {
     "data": {
      "image/png": "[encoded data removed]",
      "text/plain": [
       "<Figure size 432x288 with 1 Axes>"
      ]
     },
     "metadata": {
      "needs_background": "light"
     },
     "output_type": "display_data"
    }
   ],
   "source": [
    "for i in num:\n",
    "    plt.xlabel(i)\n",
    "    num[i].plot(kind='hist')\n",
    "    plt.show()"
   ]
  },
  {
   "cell_type": "code",
   "execution_count": 29,
   "metadata": {},
   "outputs": [
    {
     "data": {
      "text/plain": [
       "Index(['OrderId', 'Customer_Id', 'Customer_Category', 'Cust_State', 'Zipcode',\n",
       "       'Sales', 'Order_zone', 'Price', 'CategoryName', 'Transcation',\n",
       "       'Dept_Id', 'Dept_Name', 'Profit_Ratio', 'Discount', 'Quantity',\n",
       "       'Order_Profit ', 'Product_type', 'Prod_Category_Id', 'ProductLength',\n",
       "       'ProductWeight', 'Dispatched', 'Shipping_Class', 'Scheduled_Shipping',\n",
       "       'Warehouse_Region', 'Delivery_Review', 'Session_Ordered',\n",
       "       'WeekdayOrder', 'Delivery_Status'],\n",
       "      dtype='object')"
      ]
     },
     "execution_count": 29,
     "metadata": {},
     "output_type": "execute_result"
    }
   ],
   "source": [
    "train.columns"
   ]
  },
  {
   "cell_type": "code",
   "execution_count": 30,
   "metadata": {},
   "outputs": [
    {
     "data": {
      "text/html": [
       "<div>\n",
       "<style scoped>\n",
       "    .dataframe tbody tr th:only-of-type {\n",
       "        vertical-align: middle;\n",
       "    }\n",
       "\n",
       "    .dataframe tbody tr th {\n",
       "        vertical-align: top;\n",
       "    }\n",
       "\n",
       "    .dataframe thead th {\n",
       "        text-align: right;\n",
       "    }\n",
       "</style>\n",
       "<table border=\"1\" class=\"dataframe\">\n",
       "  <thead>\n",
       "    <tr style=\"text-align: right;\">\n",
       "      <th></th>\n",
       "      <th>count</th>\n",
       "      <th>unique</th>\n",
       "      <th>top</th>\n",
       "      <th>freq</th>\n",
       "      <th>mean</th>\n",
       "      <th>std</th>\n",
       "      <th>min</th>\n",
       "      <th>25%</th>\n",
       "      <th>50%</th>\n",
       "      <th>75%</th>\n",
       "      <th>max</th>\n",
       "    </tr>\n",
       "  </thead>\n",
       "  <tbody>\n",
       "    <tr>\n",
       "      <th>OrderId</th>\n",
       "      <td>126363.0</td>\n",
       "      <td>NaN</td>\n",
       "      <td>NaN</td>\n",
       "      <td>NaN</td>\n",
       "      <td>2431879.920325</td>\n",
       "      <td>52125.241745</td>\n",
       "      <td>2341525.0</td>\n",
       "      <td>2386691.5</td>\n",
       "      <td>2432005.0</td>\n",
       "      <td>2477044.5</td>\n",
       "      <td>2522043.0</td>\n",
       "    </tr>\n",
       "    <tr>\n",
       "      <th>Customer_Id</th>\n",
       "      <td>126363.0</td>\n",
       "      <td>NaN</td>\n",
       "      <td>NaN</td>\n",
       "      <td>NaN</td>\n",
       "      <td>6808.571552</td>\n",
       "      <td>4164.592992</td>\n",
       "      <td>103.0</td>\n",
       "      <td>3375.0</td>\n",
       "      <td>6582.0</td>\n",
       "      <td>9888.0</td>\n",
       "      <td>20874.0</td>\n",
       "    </tr>\n",
       "    <tr>\n",
       "      <th>Customer_Category</th>\n",
       "      <td>126363</td>\n",
       "      <td>3</td>\n",
       "      <td>Consumer</td>\n",
       "      <td>65464</td>\n",
       "      <td>NaN</td>\n",
       "      <td>NaN</td>\n",
       "      <td>NaN</td>\n",
       "      <td>NaN</td>\n",
       "      <td>NaN</td>\n",
       "      <td>NaN</td>\n",
       "      <td>NaN</td>\n",
       "    </tr>\n",
       "    <tr>\n",
       "      <th>Cust_State</th>\n",
       "      <td>126363</td>\n",
       "      <td>18</td>\n",
       "      <td>AR</td>\n",
       "      <td>7105</td>\n",
       "      <td>NaN</td>\n",
       "      <td>NaN</td>\n",
       "      <td>NaN</td>\n",
       "      <td>NaN</td>\n",
       "      <td>NaN</td>\n",
       "      <td>NaN</td>\n",
       "      <td>NaN</td>\n",
       "    </tr>\n",
       "    <tr>\n",
       "      <th>Zipcode</th>\n",
       "      <td>126363.0</td>\n",
       "      <td>NaN</td>\n",
       "      <td>NaN</td>\n",
       "      <td>NaN</td>\n",
       "      <td>35961.067029</td>\n",
       "      <td>37550.046447</td>\n",
       "      <td>12.0</td>\n",
       "      <td>742.0</td>\n",
       "      <td>19168.0</td>\n",
       "      <td>78219.0</td>\n",
       "      <td>99225.0</td>\n",
       "    </tr>\n",
       "    <tr>\n",
       "      <th>Sales</th>\n",
       "      <td>122749.0</td>\n",
       "      <td>NaN</td>\n",
       "      <td>NaN</td>\n",
       "      <td>NaN</td>\n",
       "      <td>196.119952</td>\n",
       "      <td>121.4487</td>\n",
       "      <td>28.0</td>\n",
       "      <td>113.0</td>\n",
       "      <td>173.0</td>\n",
       "      <td>261.0</td>\n",
       "      <td>1969.0</td>\n",
       "    </tr>\n",
       "    <tr>\n",
       "      <th>Order_zone</th>\n",
       "      <td>126363</td>\n",
       "      <td>5</td>\n",
       "      <td>North</td>\n",
       "      <td>25375</td>\n",
       "      <td>NaN</td>\n",
       "      <td>NaN</td>\n",
       "      <td>NaN</td>\n",
       "      <td>NaN</td>\n",
       "      <td>NaN</td>\n",
       "      <td>NaN</td>\n",
       "      <td>NaN</td>\n",
       "    </tr>\n",
       "    <tr>\n",
       "      <th>Price</th>\n",
       "      <td>126363.0</td>\n",
       "      <td>NaN</td>\n",
       "      <td>NaN</td>\n",
       "      <td>NaN</td>\n",
       "      <td>10064.758724</td>\n",
       "      <td>9923.788862</td>\n",
       "      <td>617.31</td>\n",
       "      <td>3587.76</td>\n",
       "      <td>4415.28</td>\n",
       "      <td>14222.4</td>\n",
       "      <td>142151.34</td>\n",
       "    </tr>\n",
       "    <tr>\n",
       "      <th>CategoryName</th>\n",
       "      <td>126363</td>\n",
       "      <td>50</td>\n",
       "      <td>Cat-2</td>\n",
       "      <td>17297</td>\n",
       "      <td>NaN</td>\n",
       "      <td>NaN</td>\n",
       "      <td>NaN</td>\n",
       "      <td>NaN</td>\n",
       "      <td>NaN</td>\n",
       "      <td>NaN</td>\n",
       "      <td>NaN</td>\n",
       "    </tr>\n",
       "    <tr>\n",
       "      <th>Transcation</th>\n",
       "      <td>126363</td>\n",
       "      <td>4</td>\n",
       "      <td>Debit</td>\n",
       "      <td>48586</td>\n",
       "      <td>NaN</td>\n",
       "      <td>NaN</td>\n",
       "      <td>NaN</td>\n",
       "      <td>NaN</td>\n",
       "      <td>NaN</td>\n",
       "      <td>NaN</td>\n",
       "      <td>NaN</td>\n",
       "    </tr>\n",
       "    <tr>\n",
       "      <th>Dept_Id</th>\n",
       "      <td>126363.0</td>\n",
       "      <td>NaN</td>\n",
       "      <td>NaN</td>\n",
       "      <td>NaN</td>\n",
       "      <td>5.443682</td>\n",
       "      <td>1.627874</td>\n",
       "      <td>2.0</td>\n",
       "      <td>4.0</td>\n",
       "      <td>5.0</td>\n",
       "      <td>7.0</td>\n",
       "      <td>12.0</td>\n",
       "    </tr>\n",
       "    <tr>\n",
       "      <th>Dept_Name</th>\n",
       "      <td>126363</td>\n",
       "      <td>11</td>\n",
       "      <td>Fan Shop</td>\n",
       "      <td>46834</td>\n",
       "      <td>NaN</td>\n",
       "      <td>NaN</td>\n",
       "      <td>NaN</td>\n",
       "      <td>NaN</td>\n",
       "      <td>NaN</td>\n",
       "      <td>NaN</td>\n",
       "      <td>NaN</td>\n",
       "    </tr>\n",
       "    <tr>\n",
       "      <th>Profit_Ratio</th>\n",
       "      <td>126363.0</td>\n",
       "      <td>NaN</td>\n",
       "      <td>NaN</td>\n",
       "      <td>NaN</td>\n",
       "      <td>0.124273</td>\n",
       "      <td>0.467546</td>\n",
       "      <td>-2.75</td>\n",
       "      <td>0.08</td>\n",
       "      <td>0.28</td>\n",
       "      <td>0.37</td>\n",
       "      <td>0.5</td>\n",
       "    </tr>\n",
       "    <tr>\n",
       "      <th>Discount</th>\n",
       "      <td>121313.0</td>\n",
       "      <td>NaN</td>\n",
       "      <td>NaN</td>\n",
       "      <td>NaN</td>\n",
       "      <td>0.10545</td>\n",
       "      <td>0.072329</td>\n",
       "      <td>0.0</td>\n",
       "      <td>0.04</td>\n",
       "      <td>0.1</td>\n",
       "      <td>0.16</td>\n",
       "      <td>0.25</td>\n",
       "    </tr>\n",
       "    <tr>\n",
       "      <th>Quantity</th>\n",
       "      <td>126363.0</td>\n",
       "      <td>NaN</td>\n",
       "      <td>NaN</td>\n",
       "      <td>NaN</td>\n",
       "      <td>2.129255</td>\n",
       "      <td>1.454968</td>\n",
       "      <td>1.0</td>\n",
       "      <td>1.0</td>\n",
       "      <td>1.0</td>\n",
       "      <td>3.0</td>\n",
       "      <td>5.0</td>\n",
       "    </tr>\n",
       "    <tr>\n",
       "      <th>Order_Profit</th>\n",
       "      <td>126363.0</td>\n",
       "      <td>NaN</td>\n",
       "      <td>NaN</td>\n",
       "      <td>NaN</td>\n",
       "      <td>1257.016748</td>\n",
       "      <td>6690.787375</td>\n",
       "      <td>-271606.42</td>\n",
       "      <td>314.08</td>\n",
       "      <td>1258.74</td>\n",
       "      <td>3119.9</td>\n",
       "      <td>68156.67</td>\n",
       "    </tr>\n",
       "    <tr>\n",
       "      <th>Product_type</th>\n",
       "      <td>126363</td>\n",
       "      <td>2</td>\n",
       "      <td>Not Fragile</td>\n",
       "      <td>71204</td>\n",
       "      <td>NaN</td>\n",
       "      <td>NaN</td>\n",
       "      <td>NaN</td>\n",
       "      <td>NaN</td>\n",
       "      <td>NaN</td>\n",
       "      <td>NaN</td>\n",
       "      <td>NaN</td>\n",
       "    </tr>\n",
       "    <tr>\n",
       "      <th>Prod_Category_Id</th>\n",
       "      <td>126363.0</td>\n",
       "      <td>NaN</td>\n",
       "      <td>NaN</td>\n",
       "      <td>NaN</td>\n",
       "      <td>31.86303</td>\n",
       "      <td>15.652067</td>\n",
       "      <td>2.0</td>\n",
       "      <td>18.0</td>\n",
       "      <td>29.0</td>\n",
       "      <td>45.0</td>\n",
       "      <td>76.0</td>\n",
       "    </tr>\n",
       "    <tr>\n",
       "      <th>ProductLength</th>\n",
       "      <td>123417.0</td>\n",
       "      <td>NaN</td>\n",
       "      <td>NaN</td>\n",
       "      <td>NaN</td>\n",
       "      <td>95.976178</td>\n",
       "      <td>55.362442</td>\n",
       "      <td>10.0</td>\n",
       "      <td>51.0</td>\n",
       "      <td>84.0</td>\n",
       "      <td>141.0</td>\n",
       "      <td>210.0</td>\n",
       "    </tr>\n",
       "    <tr>\n",
       "      <th>ProductWeight</th>\n",
       "      <td>125668.0</td>\n",
       "      <td>NaN</td>\n",
       "      <td>NaN</td>\n",
       "      <td>NaN</td>\n",
       "      <td>3747.630431</td>\n",
       "      <td>7619.837283</td>\n",
       "      <td>10.0</td>\n",
       "      <td>756.0</td>\n",
       "      <td>1640.0</td>\n",
       "      <td>2717.0</td>\n",
       "      <td>43999.0</td>\n",
       "    </tr>\n",
       "    <tr>\n",
       "      <th>Dispatched</th>\n",
       "      <td>126363.0</td>\n",
       "      <td>NaN</td>\n",
       "      <td>NaN</td>\n",
       "      <td>NaN</td>\n",
       "      <td>0.394261</td>\n",
       "      <td>0.488693</td>\n",
       "      <td>0.0</td>\n",
       "      <td>0.0</td>\n",
       "      <td>0.0</td>\n",
       "      <td>1.0</td>\n",
       "      <td>1.0</td>\n",
       "    </tr>\n",
       "    <tr>\n",
       "      <th>Shipping_Class</th>\n",
       "      <td>126363</td>\n",
       "      <td>4</td>\n",
       "      <td>Standard</td>\n",
       "      <td>75433</td>\n",
       "      <td>NaN</td>\n",
       "      <td>NaN</td>\n",
       "      <td>NaN</td>\n",
       "      <td>NaN</td>\n",
       "      <td>NaN</td>\n",
       "      <td>NaN</td>\n",
       "      <td>NaN</td>\n",
       "    </tr>\n",
       "    <tr>\n",
       "      <th>Scheduled_Shipping</th>\n",
       "      <td>126363.0</td>\n",
       "      <td>NaN</td>\n",
       "      <td>NaN</td>\n",
       "      <td>NaN</td>\n",
       "      <td>3.727199</td>\n",
       "      <td>1.497517</td>\n",
       "      <td>0.0</td>\n",
       "      <td>3.0</td>\n",
       "      <td>4.0</td>\n",
       "      <td>5.0</td>\n",
       "      <td>6.0</td>\n",
       "    </tr>\n",
       "    <tr>\n",
       "      <th>Warehouse_Region</th>\n",
       "      <td>126363</td>\n",
       "      <td>5</td>\n",
       "      <td>NORTH</td>\n",
       "      <td>36043</td>\n",
       "      <td>NaN</td>\n",
       "      <td>NaN</td>\n",
       "      <td>NaN</td>\n",
       "      <td>NaN</td>\n",
       "      <td>NaN</td>\n",
       "      <td>NaN</td>\n",
       "      <td>NaN</td>\n",
       "    </tr>\n",
       "    <tr>\n",
       "      <th>Delivery_Review</th>\n",
       "      <td>117298.0</td>\n",
       "      <td>NaN</td>\n",
       "      <td>NaN</td>\n",
       "      <td>NaN</td>\n",
       "      <td>3.363843</td>\n",
       "      <td>0.92832</td>\n",
       "      <td>1.0</td>\n",
       "      <td>3.0</td>\n",
       "      <td>3.0</td>\n",
       "      <td>4.0</td>\n",
       "      <td>5.0</td>\n",
       "    </tr>\n",
       "    <tr>\n",
       "      <th>Session_Ordered</th>\n",
       "      <td>121571.0</td>\n",
       "      <td>NaN</td>\n",
       "      <td>NaN</td>\n",
       "      <td>NaN</td>\n",
       "      <td>2.001497</td>\n",
       "      <td>0.814737</td>\n",
       "      <td>1.0</td>\n",
       "      <td>1.0</td>\n",
       "      <td>2.0</td>\n",
       "      <td>3.0</td>\n",
       "      <td>3.0</td>\n",
       "    </tr>\n",
       "    <tr>\n",
       "      <th>WeekdayOrder</th>\n",
       "      <td>126363.0</td>\n",
       "      <td>NaN</td>\n",
       "      <td>NaN</td>\n",
       "      <td>NaN</td>\n",
       "      <td>0.497923</td>\n",
       "      <td>0.499998</td>\n",
       "      <td>0.0</td>\n",
       "      <td>0.0</td>\n",
       "      <td>0.0</td>\n",
       "      <td>1.0</td>\n",
       "      <td>1.0</td>\n",
       "    </tr>\n",
       "    <tr>\n",
       "      <th>Delivery_Status</th>\n",
       "      <td>126363.0</td>\n",
       "      <td>NaN</td>\n",
       "      <td>NaN</td>\n",
       "      <td>NaN</td>\n",
       "      <td>0.328031</td>\n",
       "      <td>0.469498</td>\n",
       "      <td>0.0</td>\n",
       "      <td>0.0</td>\n",
       "      <td>0.0</td>\n",
       "      <td>1.0</td>\n",
       "      <td>1.0</td>\n",
       "    </tr>\n",
       "  </tbody>\n",
       "</table>\n",
       "</div>"
      ],
      "text/plain": [
       "                       count unique          top   freq            mean  \\\n",
       "OrderId             126363.0    NaN          NaN    NaN  2431879.920325   \n",
       "Customer_Id         126363.0    NaN          NaN    NaN     6808.571552   \n",
       "Customer_Category     126363      3     Consumer  65464             NaN   \n",
       "Cust_State            126363     18           AR   7105             NaN   \n",
       "Zipcode             126363.0    NaN          NaN    NaN    35961.067029   \n",
       "Sales               122749.0    NaN          NaN    NaN      196.119952   \n",
       "Order_zone            126363      5        North  25375             NaN   \n",
       "Price               126363.0    NaN          NaN    NaN    10064.758724   \n",
       "CategoryName          126363     50        Cat-2  17297             NaN   \n",
       "Transcation           126363      4        Debit  48586             NaN   \n",
       "Dept_Id             126363.0    NaN          NaN    NaN        5.443682   \n",
       "Dept_Name             126363     11     Fan Shop  46834             NaN   \n",
       "Profit_Ratio        126363.0    NaN          NaN    NaN        0.124273   \n",
       "Discount            121313.0    NaN          NaN    NaN         0.10545   \n",
       "Quantity            126363.0    NaN          NaN    NaN        2.129255   \n",
       "Order_Profit        126363.0    NaN          NaN    NaN     1257.016748   \n",
       "Product_type          126363      2  Not Fragile  71204             NaN   \n",
       "Prod_Category_Id    126363.0    NaN          NaN    NaN        31.86303   \n",
       "ProductLength       123417.0    NaN          NaN    NaN       95.976178   \n",
       "ProductWeight       125668.0    NaN          NaN    NaN     3747.630431   \n",
       "Dispatched          126363.0    NaN          NaN    NaN        0.394261   \n",
       "Shipping_Class        126363      4     Standard  75433             NaN   \n",
       "Scheduled_Shipping  126363.0    NaN          NaN    NaN        3.727199   \n",
       "Warehouse_Region      126363      5        NORTH  36043             NaN   \n",
       "Delivery_Review     117298.0    NaN          NaN    NaN        3.363843   \n",
       "Session_Ordered     121571.0    NaN          NaN    NaN        2.001497   \n",
       "WeekdayOrder        126363.0    NaN          NaN    NaN        0.497923   \n",
       "Delivery_Status     126363.0    NaN          NaN    NaN        0.328031   \n",
       "\n",
       "                             std        min        25%        50%        75%  \\\n",
       "OrderId             52125.241745  2341525.0  2386691.5  2432005.0  2477044.5   \n",
       "Customer_Id          4164.592992      103.0     3375.0     6582.0     9888.0   \n",
       "Customer_Category            NaN        NaN        NaN        NaN        NaN   \n",
       "Cust_State                   NaN        NaN        NaN        NaN        NaN   \n",
       "Zipcode             37550.046447       12.0      742.0    19168.0    78219.0   \n",
       "Sales                   121.4487       28.0      113.0      173.0      261.0   \n",
       "Order_zone                   NaN        NaN        NaN        NaN        NaN   \n",
       "Price                9923.788862     617.31    3587.76    4415.28    14222.4   \n",
       "CategoryName                 NaN        NaN        NaN        NaN        NaN   \n",
       "Transcation                  NaN        NaN        NaN        NaN        NaN   \n",
       "Dept_Id                 1.627874        2.0        4.0        5.0        7.0   \n",
       "Dept_Name                    NaN        NaN        NaN        NaN        NaN   \n",
       "Profit_Ratio            0.467546      -2.75       0.08       0.28       0.37   \n",
       "Discount                0.072329        0.0       0.04        0.1       0.16   \n",
       "Quantity                1.454968        1.0        1.0        1.0        3.0   \n",
       "Order_Profit         6690.787375 -271606.42     314.08    1258.74     3119.9   \n",
       "Product_type                 NaN        NaN        NaN        NaN        NaN   \n",
       "Prod_Category_Id       15.652067        2.0       18.0       29.0       45.0   \n",
       "ProductLength          55.362442       10.0       51.0       84.0      141.0   \n",
       "ProductWeight        7619.837283       10.0      756.0     1640.0     2717.0   \n",
       "Dispatched              0.488693        0.0        0.0        0.0        1.0   \n",
       "Shipping_Class               NaN        NaN        NaN        NaN        NaN   \n",
       "Scheduled_Shipping      1.497517        0.0        3.0        4.0        5.0   \n",
       "Warehouse_Region             NaN        NaN        NaN        NaN        NaN   \n",
       "Delivery_Review          0.92832        1.0        3.0        3.0        4.0   \n",
       "Session_Ordered         0.814737        1.0        1.0        2.0        3.0   \n",
       "WeekdayOrder            0.499998        0.0        0.0        0.0        1.0   \n",
       "Delivery_Status         0.469498        0.0        0.0        0.0        1.0   \n",
       "\n",
       "                          max  \n",
       "OrderId             2522043.0  \n",
       "Customer_Id           20874.0  \n",
       "Customer_Category         NaN  \n",
       "Cust_State                NaN  \n",
       "Zipcode               99225.0  \n",
       "Sales                  1969.0  \n",
       "Order_zone                NaN  \n",
       "Price               142151.34  \n",
       "CategoryName              NaN  \n",
       "Transcation               NaN  \n",
       "Dept_Id                  12.0  \n",
       "Dept_Name                 NaN  \n",
       "Profit_Ratio              0.5  \n",
       "Discount                 0.25  \n",
       "Quantity                  5.0  \n",
       "Order_Profit         68156.67  \n",
       "Product_type              NaN  \n",
       "Prod_Category_Id         76.0  \n",
       "ProductLength           210.0  \n",
       "ProductWeight         43999.0  \n",
       "Dispatched                1.0  \n",
       "Shipping_Class            NaN  \n",
       "Scheduled_Shipping        6.0  \n",
       "Warehouse_Region          NaN  \n",
       "Delivery_Review           5.0  \n",
       "Session_Ordered           3.0  \n",
       "WeekdayOrder              1.0  \n",
       "Delivery_Status           1.0  "
      ]
     },
     "execution_count": 30,
     "metadata": {},
     "output_type": "execute_result"
    }
   ],
   "source": [
    "train.describe(include='all').T"
   ]
  },
  {
   "cell_type": "markdown",
   "metadata": {},
   "source": [
    "### Null"
   ]
  },
  {
   "cell_type": "code",
   "execution_count": 31,
   "metadata": {},
   "outputs": [
    {
     "data": {
      "text/plain": [
       "OrderId                  0\n",
       "Customer_Id              0\n",
       "Customer_Category        0\n",
       "Cust_State               0\n",
       "Zipcode                  0\n",
       "Sales                 1460\n",
       "Order_zone               0\n",
       "Price                    0\n",
       "CategoryName             0\n",
       "Transcation              0\n",
       "Dept_Id                  0\n",
       "Dept_Name                0\n",
       "Profit_Ratio             0\n",
       "Discount              2174\n",
       "Quantity                 0\n",
       "Order_Profit             0\n",
       "Product_type             0\n",
       "Prod_Category_Id         0\n",
       "ProductLength         1304\n",
       "ProductWeight          307\n",
       "Dispatched               0\n",
       "Shipping_Class           0\n",
       "Scheduled_Shipping       0\n",
       "Warehouse_Region         0\n",
       "Delivery_Review       3896\n",
       "Session_Ordered       2031\n",
       "WeekdayOrder             0\n",
       "dtype: int64"
      ]
     },
     "execution_count": 31,
     "metadata": {},
     "output_type": "execute_result"
    }
   ],
   "source": [
    "test.isna().sum()"
   ]
  },
  {
   "cell_type": "code",
   "execution_count": 32,
   "metadata": {},
   "outputs": [
    {
     "data": {
      "text/plain": [
       "OrderId                  0\n",
       "Customer_Id              0\n",
       "Customer_Category        0\n",
       "Cust_State               0\n",
       "Zipcode                  0\n",
       "Sales                 3614\n",
       "Order_zone               0\n",
       "Price                    0\n",
       "CategoryName             0\n",
       "Transcation              0\n",
       "Dept_Id                  0\n",
       "Dept_Name                0\n",
       "Profit_Ratio             0\n",
       "Discount              5050\n",
       "Quantity                 0\n",
       "Order_Profit             0\n",
       "Product_type             0\n",
       "Prod_Category_Id         0\n",
       "ProductLength         2946\n",
       "ProductWeight          695\n",
       "Dispatched               0\n",
       "Shipping_Class           0\n",
       "Scheduled_Shipping       0\n",
       "Warehouse_Region         0\n",
       "Delivery_Review       9065\n",
       "Session_Ordered       4792\n",
       "WeekdayOrder             0\n",
       "Delivery_Status          0\n",
       "dtype: int64"
      ]
     },
     "execution_count": 32,
     "metadata": {},
     "output_type": "execute_result"
    }
   ],
   "source": [
    "train.isna().sum()"
   ]
  },
  {
   "cell_type": "code",
   "execution_count": 33,
   "metadata": {},
   "outputs": [
    {
     "data": {
      "text/plain": [
       "<matplotlib.axes._subplots.AxesSubplot at 0x19736b215e0>"
      ]
     },
     "execution_count": 33,
     "metadata": {},
     "output_type": "execute_result"
    },
    {
     "data": {
      "image/png": "[encoded data removed]",
      "text/plain": [
       "<Figure size 432x288 with 1 Axes>"
      ]
     },
     "metadata": {
      "needs_background": "light"
     },
     "output_type": "display_data"
    }
   ],
   "source": [
    "sns.distplot(train['Sales'])"
   ]
  },
  {
   "cell_type": "code",
   "execution_count": 34,
   "metadata": {},
   "outputs": [
    {
     "data": {
      "text/plain": [
       "(173.0, 196.11995209736943)"
      ]
     },
     "execution_count": 34,
     "metadata": {},
     "output_type": "execute_result"
    }
   ],
   "source": [
    "train['Sales'].median(),train['Sales'].mean()"
   ]
  },
  {
   "cell_type": "code",
   "execution_count": 35,
   "metadata": {},
   "outputs": [
    {
     "data": {
      "text/plain": [
       "(array([ 0,  1,  2,  3,  4,  5,  6,  7,  8,  9, 10, 11, 12, 13, 14, 15]),\n",
       " <a list of 16 Text major ticklabel objects>)"
      ]
     },
     "execution_count": 35,
     "metadata": {},
     "output_type": "execute_result"
    },
    {
     "data": {
      "image/png": "[encoded data removed]",
      "text/plain": [
       "<Figure size 432x288 with 1 Axes>"
      ]
     },
     "metadata": {
      "needs_background": "light"
     },
     "output_type": "display_data"
    }
   ],
   "source": [
    "sns.countplot(train['Discount'])\n",
    "plt.xticks(rotation='vertical')"
   ]
  },
  {
   "cell_type": "code",
   "execution_count": 36,
   "metadata": {},
   "outputs": [
    {
     "data": {
      "text/plain": [
       "0.0999999999999999"
      ]
     },
     "execution_count": 36,
     "metadata": {},
     "output_type": "execute_result"
    }
   ],
   "source": [
    "train['Discount'].median()"
   ]
  },
  {
   "cell_type": "code",
   "execution_count": 37,
   "metadata": {},
   "outputs": [
    {
     "data": {
      "text/plain": [
       "<matplotlib.axes._subplots.AxesSubplot at 0x19737006760>"
      ]
     },
     "execution_count": 37,
     "metadata": {},
     "output_type": "execute_result"
    },
    {
     "data": {
      "image/png": "[encoded data removed]",
      "text/plain": [
       "<Figure size 432x288 with 1 Axes>"
      ]
     },
     "metadata": {
      "needs_background": "light"
     },
     "output_type": "display_data"
    }
   ],
   "source": [
    "train['ProductLength'].hist()"
   ]
  },
  {
   "cell_type": "code",
   "execution_count": 38,
   "metadata": {},
   "outputs": [
    {
     "data": {
      "text/plain": [
       "(84.0, 95.97617832227327)"
      ]
     },
     "execution_count": 38,
     "metadata": {},
     "output_type": "execute_result"
    }
   ],
   "source": [
    "train['ProductLength'].median(),train['ProductLength'].mean()"
   ]
  },
  {
   "cell_type": "code",
   "execution_count": 39,
   "metadata": {},
   "outputs": [
    {
     "data": {
      "text/plain": [
       "<matplotlib.axes._subplots.AxesSubplot at 0x19737110670>"
      ]
     },
     "execution_count": 39,
     "metadata": {},
     "output_type": "execute_result"
    },
    {
     "data": {
      "image/png": "[encoded data removed]",
      "text/plain": [
       "<Figure size 432x288 with 1 Axes>"
      ]
     },
     "metadata": {
      "needs_background": "light"
     },
     "output_type": "display_data"
    }
   ],
   "source": [
    "train['ProductWeight'].hist()"
   ]
  },
  {
   "cell_type": "code",
   "execution_count": 40,
   "metadata": {},
   "outputs": [
    {
     "data": {
      "text/plain": [
       "(1640.0, 95.97617832227327)"
      ]
     },
     "execution_count": 40,
     "metadata": {},
     "output_type": "execute_result"
    }
   ],
   "source": [
    "train['ProductWeight'].median(),train['ProductLength'].mean()"
   ]
  },
  {
   "cell_type": "code",
   "execution_count": 41,
   "metadata": {},
   "outputs": [
    {
     "name": "stdout",
     "output_type": "stream",
     "text": [
      "(113462,)\n"
     ]
    },
    {
     "data": {
      "text/plain": [
       "<matplotlib.axes._subplots.AxesSubplot at 0x19737168970>"
      ]
     },
     "execution_count": 41,
     "metadata": {},
     "output_type": "execute_result"
    },
    {
     "data": {
      "image/png": "[encoded data removed]",
      "text/plain": [
       "<Figure size 432x288 with 1 Axes>"
      ]
     },
     "metadata": {
      "needs_background": "light"
     },
     "output_type": "display_data"
    }
   ],
   "source": [
    "print(train[train['ProductWeight']<4000]['ProductWeight'].shape)\n",
    "train[train['ProductWeight']<4000]['ProductWeight'].hist()"
   ]
  },
  {
   "cell_type": "code",
   "execution_count": 42,
   "metadata": {},
   "outputs": [
    {
     "data": {
      "text/plain": [
       "(1565.1498563395674, 1489.0)"
      ]
     },
     "execution_count": 42,
     "metadata": {},
     "output_type": "execute_result"
    }
   ],
   "source": [
    "train[train['ProductWeight']<4000]['ProductWeight'].mean(),train[train['ProductWeight']<4000]['ProductWeight'].median()"
   ]
  },
  {
   "cell_type": "code",
   "execution_count": 43,
   "metadata": {},
   "outputs": [
    {
     "data": {
      "text/plain": [
       "4.0    42860\n",
       "3.0    41201\n",
       "2.0    19732\n",
       "5.0    11640\n",
       "1.0     1865\n",
       "Name: Delivery_Review, dtype: int64"
      ]
     },
     "execution_count": 43,
     "metadata": {},
     "output_type": "execute_result"
    }
   ],
   "source": [
    "train['Delivery_Review'].value_counts()"
   ]
  },
  {
   "cell_type": "code",
   "execution_count": 44,
   "metadata": {},
   "outputs": [
    {
     "data": {
      "text/plain": [
       "3.0"
      ]
     },
     "execution_count": 44,
     "metadata": {},
     "output_type": "execute_result"
    }
   ],
   "source": [
    "train['Delivery_Review'].median()"
   ]
  },
  {
   "cell_type": "code",
   "execution_count": 45,
   "metadata": {},
   "outputs": [
    {
     "name": "stdout",
     "output_type": "stream",
     "text": [
      "2.00149706755723 2.0\n"
     ]
    },
    {
     "data": {
      "text/plain": [
       "2.0    40873\n",
       "3.0    40440\n",
       "1.0    40258\n",
       "Name: Session_Ordered, dtype: int64"
      ]
     },
     "execution_count": 45,
     "metadata": {},
     "output_type": "execute_result"
    }
   ],
   "source": [
    "print(train['Session_Ordered'].mean(),train['Session_Ordered'].median())\n",
    "train['Session_Ordered'].value_counts()"
   ]
  },
  {
   "cell_type": "code",
   "execution_count": 46,
   "metadata": {},
   "outputs": [],
   "source": [
    "from sklearn.impute import SimpleImputer\n",
    "SI=SimpleImputer(strategy='median',missing_values=np.nan)"
   ]
  },
  {
   "cell_type": "code",
   "execution_count": 47,
   "metadata": {},
   "outputs": [],
   "source": [
    "SI.fit(train[['Session_Ordered']])\n",
    "train['Session_Ordered']=SI.transform(train[['Session_Ordered']])\n",
    "test['Session_Ordered']=SI.transform(test[['Session_Ordered']])"
   ]
  },
  {
   "cell_type": "code",
   "execution_count": 48,
   "metadata": {},
   "outputs": [],
   "source": [
    "SI.fit(train[['Delivery_Review']])\n",
    "train['Delivery_Review']=SI.transform(train[['Delivery_Review']])\n",
    "test['Delivery_Review']=SI.transform(test[['Delivery_Review']])"
   ]
  },
  {
   "cell_type": "code",
   "execution_count": 49,
   "metadata": {},
   "outputs": [],
   "source": [
    "SI.fit(train[['ProductWeight']])\n",
    "train['ProductWeight']=SI.transform(train[['ProductWeight']])\n",
    "test['ProductWeight']=SI.transform(test[['ProductWeight']])"
   ]
  },
  {
   "cell_type": "code",
   "execution_count": 50,
   "metadata": {},
   "outputs": [],
   "source": [
    "SI=SimpleImputer(strategy='mean',missing_values=np.nan)\n",
    "SI.fit(train[['ProductLength']])\n",
    "train['ProductLength']=SI.transform(train[['ProductLength']])\n",
    "test['ProductLength']=SI.transform(test[['ProductLength']])"
   ]
  },
  {
   "cell_type": "code",
   "execution_count": 51,
   "metadata": {},
   "outputs": [],
   "source": [
    "SI.fit(train[['Sales']])\n",
    "train['Sales']=SI.transform(train[['Sales']])\n",
    "test['Sales']=SI.transform(test[['Sales']])"
   ]
  },
  {
   "cell_type": "code",
   "execution_count": 52,
   "metadata": {},
   "outputs": [],
   "source": [
    "SI=SimpleImputer(strategy='median',missing_values=np.nan)\n",
    "SI.fit(train[['Discount']])\n",
    "train['Discount']=SI.transform(train[['Discount']])\n",
    "test['Discount']=SI.transform(test[['Discount']])"
   ]
  },
  {
   "cell_type": "code",
   "execution_count": 53,
   "metadata": {},
   "outputs": [
    {
     "data": {
      "text/plain": [
       "OrderId               0\n",
       "Customer_Id           0\n",
       "Customer_Category     0\n",
       "Cust_State            0\n",
       "Zipcode               0\n",
       "Sales                 0\n",
       "Order_zone            0\n",
       "Price                 0\n",
       "CategoryName          0\n",
       "Transcation           0\n",
       "Dept_Id               0\n",
       "Dept_Name             0\n",
       "Profit_Ratio          0\n",
       "Discount              0\n",
       "Quantity              0\n",
       "Order_Profit          0\n",
       "Product_type          0\n",
       "Prod_Category_Id      0\n",
       "ProductLength         0\n",
       "ProductWeight         0\n",
       "Dispatched            0\n",
       "Shipping_Class        0\n",
       "Scheduled_Shipping    0\n",
       "Warehouse_Region      0\n",
       "Delivery_Review       0\n",
       "Session_Ordered       0\n",
       "WeekdayOrder          0\n",
       "Delivery_Status       0\n",
       "dtype: int64"
      ]
     },
     "execution_count": 53,
     "metadata": {},
     "output_type": "execute_result"
    }
   ],
   "source": [
    "train.isna().sum()"
   ]
  },
  {
   "cell_type": "markdown",
   "metadata": {},
   "source": [
    "#### Outlier & Scaling"
   ]
  },
  {
   "cell_type": "code",
   "execution_count": 54,
   "metadata": {},
   "outputs": [],
   "source": [
    "num=train[['Sales','Price','Profit_Ratio','Order_Profit ','Discount','Quantity','ProductLength','ProductWeight']].copy(deep=True)"
   ]
  },
  {
   "cell_type": "code",
   "execution_count": 55,
   "metadata": {},
   "outputs": [
    {
     "data": {
      "text/plain": [
       "Index(['Sales', 'Price', 'Profit_Ratio', 'Order_Profit ', 'Discount',\n",
       "       'Quantity', 'ProductLength', 'ProductWeight'],\n",
       "      dtype='object')"
      ]
     },
     "execution_count": 55,
     "metadata": {},
     "output_type": "execute_result"
    }
   ],
   "source": [
    "num.columns"
   ]
  },
  {
   "cell_type": "code",
   "execution_count": 56,
   "metadata": {},
   "outputs": [
    {
     "data": {
      "text/plain": [
       "Sales            2.781329\n",
       "Price            3.171663\n",
       "Profit_Ratio    -2.870356\n",
       "Order_Profit    -4.946131\n",
       "Discount         0.295360\n",
       "Quantity         0.877450\n",
       "ProductLength    0.440677\n",
       "ProductWeight    3.575051\n",
       "dtype: float64"
      ]
     },
     "execution_count": 56,
     "metadata": {},
     "output_type": "execute_result"
    }
   ],
   "source": [
    "num.skew()"
   ]
  },
  {
   "cell_type": "code",
   "execution_count": 57,
   "metadata": {},
   "outputs": [
    {
     "data": {
      "text/plain": [
       "Sales           -0.548980\n",
       "Price            0.321208\n",
       "Profit_Ratio          NaN\n",
       "Order_Profit    -1.316721\n",
       "Discount              NaN\n",
       "Quantity         0.537578\n",
       "ProductLength   -0.718180\n",
       "ProductWeight    0.113135\n",
       "dtype: float64"
      ]
     },
     "execution_count": 57,
     "metadata": {},
     "output_type": "execute_result"
    }
   ],
   "source": [
    "np.log(num).skew()"
   ]
  },
  {
   "cell_type": "code",
   "execution_count": 58,
   "metadata": {},
   "outputs": [
    {
     "data": {
      "text/plain": [
       "Sales            0.122948\n",
       "Price            0.825265\n",
       "Profit_Ratio    -1.608958\n",
       "Order_Profit    -1.399795\n",
       "Discount        -1.157660\n",
       "Quantity         0.638536\n",
       "ProductLength   -0.248847\n",
       "ProductWeight    1.883932\n",
       "dtype: float64"
      ]
     },
     "execution_count": 58,
     "metadata": {},
     "output_type": "execute_result"
    }
   ],
   "source": [
    "np.cbrt(num).skew()"
   ]
  },
  {
   "cell_type": "code",
   "execution_count": 59,
   "metadata": {},
   "outputs": [
    {
     "data": {
      "text/plain": [
       "Sales            0.538543\n",
       "Price            1.138023\n",
       "Profit_Ratio    -0.962066\n",
       "Order_Profit     1.166158\n",
       "Discount        -0.517250\n",
       "Quantity         0.694328\n",
       "ProductLength   -0.048042\n",
       "ProductWeight    2.524735\n",
       "dtype: float64"
      ]
     },
     "execution_count": 59,
     "metadata": {},
     "output_type": "execute_result"
    }
   ],
   "source": [
    "np.sqrt(num).skew()"
   ]
  },
  {
   "cell_type": "code",
   "execution_count": 60,
   "metadata": {},
   "outputs": [],
   "source": [
    "num['Order_Profit ']=np.cbrt(num['Order_Profit '])"
   ]
  },
  {
   "cell_type": "code",
   "execution_count": 61,
   "metadata": {},
   "outputs": [],
   "source": [
    "num[['Sales','Profit_Ratio']]=np.cbrt(num[['Sales','Profit_Ratio']])\n",
    "num[['Price','ProductWeight','Quantity']]=np.log(num[['Price','ProductWeight','Quantity']])\n",
    "num[['ProductLength']]=np.sqrt(num[['ProductLength']])"
   ]
  },
  {
   "cell_type": "code",
   "execution_count": 62,
   "metadata": {},
   "outputs": [],
   "source": [
    "test_num=test[num.columns].copy(deep=True)\n",
    "test_num[['Order_Profit ','Profit_Ratio']]=np.cbrt(test_num[['Order_Profit ','Profit_Ratio']])\n",
    "test_num[['Sales']]=np.cbrt(test_num[['Sales']])\n",
    "test_num[['Price','ProductWeight','Quantity']]=np.log(test_num[['Price','ProductWeight','Quantity']])\n",
    "test_num[['ProductLength']]=np.sqrt(test_num[['ProductLength']])"
   ]
  },
  {
   "cell_type": "markdown",
   "metadata": {},
   "source": [
    "#### CAT NUMERIC Transform"
   ]
  },
  {
   "cell_type": "code",
   "execution_count": 63,
   "metadata": {},
   "outputs": [
    {
     "data": {
      "text/plain": [
       "Index(['Sales', 'Price', 'Profit_Ratio', 'Order_Profit ', 'Discount',\n",
       "       'Quantity', 'ProductLength', 'ProductWeight'],\n",
       "      dtype='object')"
      ]
     },
     "execution_count": 63,
     "metadata": {},
     "output_type": "execute_result"
    }
   ],
   "source": [
    "num.columns"
   ]
  },
  {
   "cell_type": "code",
   "execution_count": 64,
   "metadata": {},
   "outputs": [
    {
     "data": {
      "text/html": [
       "<div>\n",
       "<style scoped>\n",
       "    .dataframe tbody tr th:only-of-type {\n",
       "        vertical-align: middle;\n",
       "    }\n",
       "\n",
       "    .dataframe tbody tr th {\n",
       "        vertical-align: top;\n",
       "    }\n",
       "\n",
       "    .dataframe thead th {\n",
       "        text-align: right;\n",
       "    }\n",
       "</style>\n",
       "<table border=\"1\" class=\"dataframe\">\n",
       "  <thead>\n",
       "    <tr style=\"text-align: right;\">\n",
       "      <th></th>\n",
       "      <th>Customer_Id</th>\n",
       "      <th>Customer_Category</th>\n",
       "      <th>Cust_State</th>\n",
       "      <th>Zipcode</th>\n",
       "      <th>Order_zone</th>\n",
       "      <th>CategoryName</th>\n",
       "      <th>Transcation</th>\n",
       "      <th>Dept_Id</th>\n",
       "      <th>Dept_Name</th>\n",
       "      <th>Product_type</th>\n",
       "      <th>Prod_Category_Id</th>\n",
       "      <th>Dispatched</th>\n",
       "      <th>Shipping_Class</th>\n",
       "      <th>Scheduled_Shipping</th>\n",
       "      <th>Warehouse_Region</th>\n",
       "      <th>Delivery_Review</th>\n",
       "      <th>Session_Ordered</th>\n",
       "      <th>WeekdayOrder</th>\n",
       "    </tr>\n",
       "  </thead>\n",
       "  <tbody>\n",
       "    <tr>\n",
       "      <th>0</th>\n",
       "      <td>12386</td>\n",
       "      <td>Consumer</td>\n",
       "      <td>AR</td>\n",
       "      <td>19120</td>\n",
       "      <td>Central</td>\n",
       "      <td>Cat-2</td>\n",
       "      <td>UPI</td>\n",
       "      <td>4</td>\n",
       "      <td>Apparel</td>\n",
       "      <td>Fragile</td>\n",
       "      <td>17</td>\n",
       "      <td>0</td>\n",
       "      <td>Standard</td>\n",
       "      <td>4</td>\n",
       "      <td>NORTH</td>\n",
       "      <td>5.0</td>\n",
       "      <td>2.0</td>\n",
       "      <td>0</td>\n",
       "    </tr>\n",
       "    <tr>\n",
       "      <th>1</th>\n",
       "      <td>2630</td>\n",
       "      <td>Consumer</td>\n",
       "      <td>BR</td>\n",
       "      <td>2907</td>\n",
       "      <td>East</td>\n",
       "      <td>Cat-2</td>\n",
       "      <td>UPI</td>\n",
       "      <td>4</td>\n",
       "      <td>Apparel</td>\n",
       "      <td>Fragile</td>\n",
       "      <td>17</td>\n",
       "      <td>0</td>\n",
       "      <td>Standard</td>\n",
       "      <td>6</td>\n",
       "      <td>NORTH</td>\n",
       "      <td>2.0</td>\n",
       "      <td>2.0</td>\n",
       "      <td>1</td>\n",
       "    </tr>\n",
       "    <tr>\n",
       "      <th>2</th>\n",
       "      <td>1752</td>\n",
       "      <td>Corporate</td>\n",
       "      <td>RJ</td>\n",
       "      <td>90214</td>\n",
       "      <td>South</td>\n",
       "      <td>Cat-50</td>\n",
       "      <td>Cash</td>\n",
       "      <td>7</td>\n",
       "      <td>Fan Shop</td>\n",
       "      <td>Not Fragile</td>\n",
       "      <td>46</td>\n",
       "      <td>0</td>\n",
       "      <td>Standard</td>\n",
       "      <td>6</td>\n",
       "      <td>SOUTH</td>\n",
       "      <td>4.0</td>\n",
       "      <td>2.0</td>\n",
       "      <td>0</td>\n",
       "    </tr>\n",
       "    <tr>\n",
       "      <th>3</th>\n",
       "      <td>9268</td>\n",
       "      <td>Consumer</td>\n",
       "      <td>UP</td>\n",
       "      <td>745</td>\n",
       "      <td>East</td>\n",
       "      <td>Cat-12</td>\n",
       "      <td>Credit</td>\n",
       "      <td>4</td>\n",
       "      <td>Apparel</td>\n",
       "      <td>Not Fragile</td>\n",
       "      <td>18</td>\n",
       "      <td>1</td>\n",
       "      <td>2A</td>\n",
       "      <td>4</td>\n",
       "      <td>NORTH</td>\n",
       "      <td>4.0</td>\n",
       "      <td>3.0</td>\n",
       "      <td>1</td>\n",
       "    </tr>\n",
       "    <tr>\n",
       "      <th>4</th>\n",
       "      <td>2888</td>\n",
       "      <td>Corporate</td>\n",
       "      <td>UP</td>\n",
       "      <td>92427</td>\n",
       "      <td>North</td>\n",
       "      <td>Cat-3</td>\n",
       "      <td>UPI</td>\n",
       "      <td>5</td>\n",
       "      <td>Golf</td>\n",
       "      <td>Not Fragile</td>\n",
       "      <td>29</td>\n",
       "      <td>1</td>\n",
       "      <td>Standard</td>\n",
       "      <td>5</td>\n",
       "      <td>CENTRAL</td>\n",
       "      <td>2.0</td>\n",
       "      <td>1.0</td>\n",
       "      <td>0</td>\n",
       "    </tr>\n",
       "  </tbody>\n",
       "</table>\n",
       "</div>"
      ],
      "text/plain": [
       "   Customer_Id Customer_Category Cust_State  Zipcode Order_zone CategoryName  \\\n",
       "0        12386          Consumer         AR    19120    Central        Cat-2   \n",
       "1         2630          Consumer         BR     2907       East        Cat-2   \n",
       "2         1752         Corporate         RJ    90214      South       Cat-50   \n",
       "3         9268          Consumer         UP      745       East       Cat-12   \n",
       "4         2888         Corporate         UP    92427      North        Cat-3   \n",
       "\n",
       "  Transcation  Dept_Id Dept_Name Product_type  Prod_Category_Id  Dispatched  \\\n",
       "0         UPI        4   Apparel      Fragile                17           0   \n",
       "1         UPI        4   Apparel      Fragile                17           0   \n",
       "2        Cash        7  Fan Shop  Not Fragile                46           0   \n",
       "3      Credit        4   Apparel  Not Fragile                18           1   \n",
       "4         UPI        5      Golf  Not Fragile                29           1   \n",
       "\n",
       "  Shipping_Class  Scheduled_Shipping Warehouse_Region  Delivery_Review  \\\n",
       "0       Standard                   4            NORTH              5.0   \n",
       "1       Standard                   6            NORTH              2.0   \n",
       "2       Standard                   6            SOUTH              4.0   \n",
       "3             2A                   4            NORTH              4.0   \n",
       "4       Standard                   5          CENTRAL              2.0   \n",
       "\n",
       "   Session_Ordered  WeekdayOrder  \n",
       "0              2.0             0  \n",
       "1              2.0             1  \n",
       "2              2.0             0  \n",
       "3              3.0             1  \n",
       "4              1.0             0  "
      ]
     },
     "execution_count": 64,
     "metadata": {},
     "output_type": "execute_result"
    }
   ],
   "source": [
    "cat=train.drop(num.columns,axis=1)\n",
    "cat=cat.drop(['OrderId','Delivery_Status'],axis=1)\n",
    "cat.head()"
   ]
  },
  {
   "cell_type": "code",
   "execution_count": 65,
   "metadata": {},
   "outputs": [],
   "source": [
    "test_cat=test.drop(test_num.columns,axis=1)\n",
    "test_cat=test_cat.drop(['OrderId'],axis=1)\n",
    "#test_cat.head()"
   ]
  },
  {
   "cell_type": "code",
   "execution_count": 66,
   "metadata": {},
   "outputs": [],
   "source": [
    "y=train['Delivery_Status']"
   ]
  },
  {
   "cell_type": "markdown",
   "metadata": {},
   "source": [
    "## 1---------------------------------------------------------------------------------------------------"
   ]
  },
  {
   "cell_type": "code",
   "execution_count": 67,
   "metadata": {},
   "outputs": [],
   "source": [
    "z=pd.DataFrame(train['Customer_Id'].value_counts())\n",
    "#mapping zip codes\n",
    "#print(z)\n",
    "new=[]\n",
    "for i in cat['Customer_Id']:\n",
    "    m=z.loc[i]['Customer_Id']\n",
    "    if m<=5:\n",
    "        new.append('LowValueCustomer')\n",
    "    elif m>5 and m<10:\n",
    "        new.append('MediumValueCustomer')\n",
    "    elif m<15 and m>=10:\n",
    "        new.append('HighValueCustomer')\n",
    "    else:\n",
    "        new.append('VeryHighValueCustomer')"
   ]
  },
  {
   "cell_type": "code",
   "execution_count": 68,
   "metadata": {},
   "outputs": [],
   "source": [
    "cat['Customer_Id']=new\n"
   ]
  },
  {
   "cell_type": "code",
   "execution_count": 69,
   "metadata": {},
   "outputs": [],
   "source": [
    "new=[]\n",
    "for i in test_cat['Customer_Id']:\n",
    "    if i in z.index:\n",
    "        m=z.loc[i]['Customer_Id']\n",
    "        if m<=5:\n",
    "            new.append('LowValueCustomer')\n",
    "        elif m>5 and m<10:\n",
    "            new.append('MediumValueCustomer')\n",
    "        elif m<15 and m>=10:\n",
    "            new.append('HighValueCustomer')\n",
    "        else:\n",
    "            new.append('VeryHighValueCustomer')\n",
    "    else:\n",
    "        new.append('LowValueCustomer')"
   ]
  },
  {
   "cell_type": "code",
   "execution_count": 70,
   "metadata": {},
   "outputs": [],
   "source": [
    "\n",
    "test_cat['Customer_Id']=new\n"
   ]
  },
  {
   "cell_type": "markdown",
   "metadata": {},
   "source": [
    "## 2----------------------------------------------------------------------"
   ]
  },
  {
   "cell_type": "code",
   "execution_count": 71,
   "metadata": {},
   "outputs": [],
   "source": [
    "z=pd.DataFrame(train['Zipcode'].value_counts())\n",
    "#mapping zip codes\n",
    "#print(z)\n",
    "new=[]\n",
    "for i in cat['Zipcode']:\n",
    "    m=z.loc[i]['Zipcode']\n",
    "    if m<=25:\n",
    "        new.append('LowCount')\n",
    "    elif m>25 and m<=50:\n",
    "        new.append('MediumCount')\n",
    "    elif m<=75 and m>50:\n",
    "        new.append('HighCount')\n",
    "    else:\n",
    "        new.append('VeryHighCount')"
   ]
  },
  {
   "cell_type": "code",
   "execution_count": 72,
   "metadata": {},
   "outputs": [],
   "source": [
    "cat['Zipcode']=new"
   ]
  },
  {
   "cell_type": "code",
   "execution_count": 73,
   "metadata": {},
   "outputs": [],
   "source": [
    "new=[]\n",
    "for i in test_cat['Zipcode']:\n",
    "    if i in z.index:\n",
    "        m=z.loc[i]['Zipcode']\n",
    "        if m<=25:\n",
    "            new.append('LowCount')\n",
    "        elif m>25 and m<=50:\n",
    "            new.append('MediumCount')\n",
    "        elif m<=75 and m>50:\n",
    "            new.append('HighCount')\n",
    "        else:\n",
    "            new.append('VeryHighCount')\n",
    "    else:\n",
    "        new.append('LowCount')"
   ]
  },
  {
   "cell_type": "code",
   "execution_count": 74,
   "metadata": {},
   "outputs": [],
   "source": [
    "\n",
    "test_cat['Zipcode']=new\n"
   ]
  },
  {
   "cell_type": "code",
   "execution_count": null,
   "metadata": {},
   "outputs": [],
   "source": []
  },
  {
   "cell_type": "markdown",
   "metadata": {},
   "source": [
    "## 3---------------------------------------------------------------------------------"
   ]
  },
  {
   "cell_type": "code",
   "execution_count": 75,
   "metadata": {},
   "outputs": [],
   "source": [
    "z=pd.DataFrame(train['CategoryName'].value_counts())\n",
    "#mapping zip codes\n",
    "#print(z)\n",
    "new=[]\n",
    "for i in cat['CategoryName']:\n",
    "    m=z.loc[i]['CategoryName']\n",
    "    if m<=500:\n",
    "        new.append('LowCountCatrgory')\n",
    "    elif m>500 and m<=1000:\n",
    "        new.append('MediumCountCatrgory')\n",
    "    elif m<=10000 and m>1000:\n",
    "        new.append('HighCountCatrgory')\n",
    "    else:\n",
    "        new.append('VeryHighCountCategory')"
   ]
  },
  {
   "cell_type": "code",
   "execution_count": 76,
   "metadata": {},
   "outputs": [
    {
     "data": {
      "text/plain": [
       "VeryHighCountCategory    84132\n",
       "HighCountCatrgory        30343\n",
       "LowCountCatrgory          8959\n",
       "MediumCountCatrgory       2929\n",
       "dtype: int64"
      ]
     },
     "execution_count": 76,
     "metadata": {},
     "output_type": "execute_result"
    }
   ],
   "source": [
    "cat['CategoryName']=new\n",
    "pd.Series(new).value_counts()"
   ]
  },
  {
   "cell_type": "code",
   "execution_count": 77,
   "metadata": {},
   "outputs": [],
   "source": [
    "new=[]\n",
    "for i in test_cat['CategoryName']:\n",
    "    m=z.loc[i]['CategoryName']\n",
    "    if m<=500:\n",
    "        new.append('LowCountCatrgory')\n",
    "    elif m>500 and m<=1000:\n",
    "        new.append('MediumCountCatrgory')\n",
    "    elif m<=10000 and m>1000:\n",
    "        new.append('HighCountCatrgory')\n",
    "    else:\n",
    "        new.append('VeryHighCountCategory')"
   ]
  },
  {
   "cell_type": "code",
   "execution_count": 78,
   "metadata": {},
   "outputs": [],
   "source": [
    "test_cat['CategoryName']=new\n"
   ]
  },
  {
   "cell_type": "markdown",
   "metadata": {},
   "source": [
    "## 4---------------------------------------------------------------------------------------"
   ]
  },
  {
   "cell_type": "code",
   "execution_count": 79,
   "metadata": {},
   "outputs": [
    {
     "data": {
      "text/plain": [
       "Cat-2     17297\n",
       "Cat-12    15489\n",
       "Cat-4     14762\n",
       "Cat-50    13551\n",
       "Cat-32    12223\n",
       "Cat-49    10810\n",
       "Cat-13     9564\n",
       "Cat-7      8735\n",
       "Cat-3      7593\n",
       "Cat-5      2203\n",
       "Cat-20     1232\n",
       "Cat-27     1016\n",
       "Cat-19      854\n",
       "Cat-42      799\n",
       "Cat-8       667\n",
       "Cat-41      609\n",
       "Cat-11      458\n",
       "Cat-21      448\n",
       "Cat-29      447\n",
       "Cat-37      418\n",
       "Cat-15      405\n",
       "Cat-48      375\n",
       "Cat-44      365\n",
       "Cat-22      358\n",
       "Cat-36      345\n",
       "Cat-38      336\n",
       "Cat-34      335\n",
       "Cat-45      317\n",
       "Cat-10      311\n",
       "Cat-40      309\n",
       "Cat-16      305\n",
       "Cat-6       304\n",
       "Cat-14      304\n",
       "Cat-33      272\n",
       "Cat-1       265\n",
       "Cat-9       262\n",
       "Cat-39      243\n",
       "Cat-30      230\n",
       "Cat-24      222\n",
       "Cat-47      202\n",
       "Cat-25      202\n",
       "Cat-35      202\n",
       "Cat-23      152\n",
       "Cat-31      137\n",
       "Cat-46      124\n",
       "Cat-18       92\n",
       "Cat-28       82\n",
       "Cat-17       51\n",
       "Cat-43       41\n",
       "Cat-26       40\n",
       "Name: CategoryName, dtype: int64"
      ]
     },
     "execution_count": 79,
     "metadata": {},
     "output_type": "execute_result"
    }
   ],
   "source": [
    "train['CategoryName'].value_counts()"
   ]
  },
  {
   "cell_type": "code",
   "execution_count": 80,
   "metadata": {},
   "outputs": [
    {
     "data": {
      "text/plain": [
       "17    17297\n",
       "18    15489\n",
       "24    14762\n",
       "46    13551\n",
       "45    12223\n",
       "48    10810\n",
       "43     9564\n",
       "9      8735\n",
       "29     7593\n",
       "37     1424\n",
       "40     1232\n",
       "36     1016\n",
       "26      854\n",
       "35      799\n",
       "13      779\n",
       "41      667\n",
       "75      609\n",
       "3       458\n",
       "76      448\n",
       "63      447\n",
       "7       418\n",
       "62      405\n",
       "74      375\n",
       "33      365\n",
       "66      358\n",
       "68      345\n",
       "72      336\n",
       "67      335\n",
       "32      317\n",
       "44      311\n",
       "71      309\n",
       "64      305\n",
       "65      304\n",
       "12      304\n",
       "59      272\n",
       "73      265\n",
       "38      262\n",
       "69      243\n",
       "5       230\n",
       "6       222\n",
       "61      202\n",
       "11      202\n",
       "30      202\n",
       "70      152\n",
       "60      137\n",
       "31      124\n",
       "2        92\n",
       "10       82\n",
       "4        51\n",
       "34       41\n",
       "16       40\n",
       "Name: Prod_Category_Id, dtype: int64"
      ]
     },
     "execution_count": 80,
     "metadata": {},
     "output_type": "execute_result"
    }
   ],
   "source": [
    "cat['Prod_Category_Id'].value_counts()"
   ]
  },
  {
   "cell_type": "code",
   "execution_count": 81,
   "metadata": {},
   "outputs": [],
   "source": [
    "cat=cat.drop('Prod_Category_Id',axis=1)\n",
    "test_cat=test_cat.drop('Prod_Category_Id',axis=1)\n",
    "#Category Name and Prod Category Id are 2 redundant columns"
   ]
  },
  {
   "cell_type": "markdown",
   "metadata": {},
   "source": [
    "## ---------------------------------------------------------------------------------------"
   ]
  },
  {
   "cell_type": "code",
   "execution_count": 82,
   "metadata": {},
   "outputs": [
    {
     "data": {
      "text/plain": [
       "(54156, 93)"
      ]
     },
     "execution_count": 82,
     "metadata": {},
     "output_type": "execute_result"
    }
   ],
   "source": [
    "test_cat=test_cat[test_cat.columns].astype('object')\n",
    "pd.get_dummies(test_cat).shape"
   ]
  },
  {
   "cell_type": "code",
   "execution_count": 83,
   "metadata": {},
   "outputs": [
    {
     "data": {
      "text/plain": [
       "(126363, 93)"
      ]
     },
     "execution_count": 83,
     "metadata": {},
     "output_type": "execute_result"
    }
   ],
   "source": [
    "cat=cat[cat.columns].astype('object')\n",
    "pd.get_dummies(cat).shape"
   ]
  },
  {
   "cell_type": "code",
   "execution_count": 84,
   "metadata": {},
   "outputs": [],
   "source": [
    "from sklearn.preprocessing import StandardScaler\n",
    "scaler=StandardScaler()"
   ]
  },
  {
   "cell_type": "code",
   "execution_count": 85,
   "metadata": {},
   "outputs": [
    {
     "data": {
      "text/plain": [
       "((126363, 8), (54156, 8))"
      ]
     },
     "execution_count": 85,
     "metadata": {},
     "output_type": "execute_result"
    }
   ],
   "source": [
    "num.shape,test_num.shape"
   ]
  },
  {
   "cell_type": "code",
   "execution_count": 86,
   "metadata": {},
   "outputs": [],
   "source": [
    "scaler.fit(num)\n",
    "num=scaler.transform(num)\n",
    "test_num=scaler.transform(test_num)"
   ]
  },
  {
   "cell_type": "code",
   "execution_count": 87,
   "metadata": {},
   "outputs": [],
   "source": [
    "num=pd.DataFrame(num,columns=['Sales','Price','Profit_Ratio','Order_Profit ','Discount','Quantity','ProductLength','ProductWeight'])\n",
    "test_num=pd.DataFrame(test_num,columns=['Sales','Price','Profit_Ratio','Order_Profit ','Discount','Quantity','ProductLength','ProductWeight'])"
   ]
  },
  {
   "cell_type": "code",
   "execution_count": 88,
   "metadata": {},
   "outputs": [],
   "source": [
    "dum=pd.get_dummies(cat)\n",
    "test_dum=pd.get_dummies(test_cat)"
   ]
  },
  {
   "cell_type": "code",
   "execution_count": 89,
   "metadata": {},
   "outputs": [
    {
     "data": {
      "text/plain": [
       "((126363, 101), (54156, 101))"
      ]
     },
     "execution_count": 89,
     "metadata": {},
     "output_type": "execute_result"
    }
   ],
   "source": [
    "X=pd.concat([dum,num],axis=1)\n",
    "test_X=pd.concat([test_dum,test_num],axis=1)\n",
    "X.shape,test_X.shape"
   ]
  },
  {
   "cell_type": "code",
   "execution_count": null,
   "metadata": {},
   "outputs": [],
   "source": []
  },
  {
   "cell_type": "raw",
   "metadata": {},
   "source": [
    "Sales\n",
    "price\n",
    "Profit_Ratio\n",
    "Discount\n",
    "Quantity\n",
    "ProductLength\n",
    "ProductWeight"
   ]
  },
  {
   "cell_type": "raw",
   "metadata": {},
   "source": [
    "-----------------------------------------------------------------------------------------------------------------"
   ]
  },
  {
   "cell_type": "code",
   "execution_count": 90,
   "metadata": {},
   "outputs": [
    {
     "data": {
      "text/plain": [
       "0    84912\n",
       "1    41451\n",
       "Name: Delivery_Status, dtype: int64"
      ]
     },
     "execution_count": 90,
     "metadata": {},
     "output_type": "execute_result"
    }
   ],
   "source": [
    "y.value_counts()"
   ]
  },
  {
   "cell_type": "markdown",
   "metadata": {},
   "source": [
    "### Model"
   ]
  },
  {
   "cell_type": "code",
   "execution_count": 91,
   "metadata": {},
   "outputs": [],
   "source": [
    "from sklearn.tree import DecisionTreeClassifier\n",
    "from sklearn.model_selection import train_test_split, RandomizedSearchCV\n",
    "from sklearn import metrics\n",
    "from sklearn.ensemble import RandomForestClassifier\n",
    "from sklearn.naive_bayes import GaussianNB"
   ]
  },
  {
   "cell_type": "code",
   "execution_count": 92,
   "metadata": {},
   "outputs": [],
   "source": [
    "X_train,X_test,y_train,y_test=train_test_split(X,y,test_size=.2,random_state=110)"
   ]
  },
  {
   "cell_type": "code",
   "execution_count": 93,
   "metadata": {},
   "outputs": [
    {
     "data": {
      "text/plain": [
       "0    16987\n",
       "1     8286\n",
       "Name: Delivery_Status, dtype: int64"
      ]
     },
     "execution_count": 93,
     "metadata": {},
     "output_type": "execute_result"
    }
   ],
   "source": [
    "y_test.value_counts()"
   ]
  },
  {
   "cell_type": "markdown",
   "metadata": {},
   "source": [
    "# 1."
   ]
  },
  {
   "cell_type": "code",
   "execution_count": 94,
   "metadata": {},
   "outputs": [
    {
     "data": {
      "text/plain": [
       "DecisionTreeClassifier()"
      ]
     },
     "execution_count": 94,
     "metadata": {},
     "output_type": "execute_result"
    }
   ],
   "source": [
    "Dt=DecisionTreeClassifier()\n",
    "Dt.fit(X_train,y_train)"
   ]
  },
  {
   "cell_type": "code",
   "execution_count": 95,
   "metadata": {},
   "outputs": [
    {
     "name": "stdout",
     "output_type": "stream",
     "text": [
      "              precision    recall  f1-score   support\n",
      "\n",
      "           0       0.78      0.79      0.79     16987\n",
      "           1       0.57      0.55      0.56      8286\n",
      "\n",
      "    accuracy                           0.71     25273\n",
      "   macro avg       0.68      0.67      0.67     25273\n",
      "weighted avg       0.71      0.71      0.71     25273\n",
      "\n",
      "[[13479  3508]\n",
      " [ 3697  4589]]\n"
     ]
    },
    {
     "data": {
      "text/plain": [
       "[<matplotlib.lines.Line2D at 0x19735affac0>]"
      ]
     },
     "execution_count": 95,
     "metadata": {},
     "output_type": "execute_result"
    },
    {
     "data": {
      "image/png": "[encoded data removed]",
      "text/plain": [
       "<Figure size 432x288 with 1 Axes>"
      ]
     },
     "metadata": {
      "needs_background": "light"
     },
     "output_type": "display_data"
    }
   ],
   "source": [
    "pred_train=Dt.predict(X_train)\n",
    "pred_test=Dt.predict(X_test)\n",
    "proba=Dt.predict_proba(X_test)\n",
    "print(metrics.classification_report(y_test,pred_test))\n",
    "print(metrics.confusion_matrix(y_test,pred_test))\n",
    "fpr,tpr,th=metrics.roc_curve(y_test,proba[:,1])\n",
    "plt.plot(fpr,tpr,marker='o')\n",
    "plt.plot([0,1],[0,1])"
   ]
  },
  {
   "cell_type": "markdown",
   "metadata": {},
   "source": [
    "# 2."
   ]
  },
  {
   "cell_type": "code",
   "execution_count": 96,
   "metadata": {
    "scrolled": true
   },
   "outputs": [
    {
     "name": "stdout",
     "output_type": "stream",
     "text": [
      "              precision    recall  f1-score   support\n",
      "\n",
      "           0       0.84      0.76      0.80     16987\n",
      "           1       0.59      0.70      0.64      8286\n",
      "\n",
      "    accuracy                           0.74     25273\n",
      "   macro avg       0.71      0.73      0.72     25273\n",
      "weighted avg       0.76      0.74      0.75     25273\n",
      "\n",
      "[[12916  4071]\n",
      " [ 2465  5821]]\n"
     ]
    },
    {
     "data": {
      "text/plain": [
       "[<matplotlib.lines.Line2D at 0x19736a48430>]"
      ]
     },
     "execution_count": 96,
     "metadata": {},
     "output_type": "execute_result"
    },
    {
     "data": {
      "image/png": "[encoded data removed]",
      "text/plain": [
       "<Figure size 432x288 with 1 Axes>"
      ]
     },
     "metadata": {
      "needs_background": "light"
     },
     "output_type": "display_data"
    }
   ],
   "source": [
    "RF=RandomForestClassifier()\n",
    "RF.fit(X_train,y_train)\n",
    "\n",
    "pred_train=RF.predict(X_train)\n",
    "pred_test=RF.predict(X_test)\n",
    "proba=RF.predict_proba(X_test)\n",
    "print(metrics.classification_report(y_test,pred_test))\n",
    "print(metrics.confusion_matrix(y_test,pred_test))\n",
    "fpr,tpr,th=metrics.roc_curve(y_test,proba[:,1])\n",
    "plt.plot(fpr,tpr,marker='o')\n",
    "plt.plot([0,1],[0,1])"
   ]
  },
  {
   "cell_type": "markdown",
   "metadata": {},
   "source": [
    "# 3."
   ]
  },
  {
   "cell_type": "code",
   "execution_count": 97,
   "metadata": {},
   "outputs": [
    {
     "name": "stdout",
     "output_type": "stream",
     "text": [
      "              precision    recall  f1-score   support\n",
      "\n",
      "           0       0.93      0.05      0.09     16987\n",
      "           1       0.34      0.99      0.50      8286\n",
      "\n",
      "    accuracy                           0.36     25273\n",
      "   macro avg       0.63      0.52      0.30     25273\n",
      "weighted avg       0.74      0.36      0.23     25273\n",
      "\n",
      "[[  830 16157]\n",
      " [   63  8223]]\n"
     ]
    },
    {
     "data": {
      "text/plain": [
       "[<matplotlib.lines.Line2D at 0x1973e3285b0>]"
      ]
     },
     "execution_count": 97,
     "metadata": {},
     "output_type": "execute_result"
    },
    {
     "data": {
      "image/png": "[encoded data removed]",
      "text/plain": [
       "<Figure size 432x288 with 1 Axes>"
      ]
     },
     "metadata": {
      "needs_background": "light"
     },
     "output_type": "display_data"
    }
   ],
   "source": [
    "Nb=GaussianNB()\n",
    "Nb.fit(X_train,y_train)\n",
    "\n",
    "pred_train=Nb.predict(X_train)\n",
    "pred_test=Nb.predict(X_test)\n",
    "proba=Nb.predict_proba(X_test)\n",
    "print(metrics.classification_report(y_test,pred_test))\n",
    "print(metrics.confusion_matrix(y_test,pred_test))\n",
    "fpr,tpr,th=metrics.roc_curve(y_test,proba[:,1])\n",
    "plt.plot(fpr,tpr,marker='o')\n",
    "plt.plot([0,1],[0,1])"
   ]
  },
  {
   "cell_type": "markdown",
   "metadata": {},
   "source": [
    "# 4."
   ]
  },
  {
   "cell_type": "code",
   "execution_count": 98,
   "metadata": {},
   "outputs": [],
   "source": [
    "from xgboost import XGBClassifier"
   ]
  },
  {
   "cell_type": "code",
   "execution_count": 99,
   "metadata": {},
   "outputs": [
    {
     "name": "stdout",
     "output_type": "stream",
     "text": [
      "[11:40:21] WARNING: C:/Users/Administrator/workspace/xgboost-win64_release_1.3.0/src/learner.cc:1061: Starting in XGBoost 1.3.0, the default evaluation metric used with the objective 'binary:logistic' was changed from 'error' to 'logloss'. Explicitly set eval_metric if you'd like to restore the old behavior.\n",
      "              precision    recall  f1-score   support\n",
      "\n",
      "           0       0.86      0.73      0.79     16987\n",
      "           1       0.58      0.76      0.66      8286\n",
      "\n",
      "    accuracy                           0.74     25273\n",
      "   macro avg       0.72      0.75      0.73     25273\n",
      "weighted avg       0.77      0.74      0.75     25273\n",
      "\n",
      "[[12421  4566]\n",
      " [ 1955  6331]]\n"
     ]
    },
    {
     "data": {
      "text/plain": [
       "[<matplotlib.lines.Line2D at 0x19747e8a910>]"
      ]
     },
     "execution_count": 99,
     "metadata": {},
     "output_type": "execute_result"
    },
    {
     "data": {
      "image/png": "[encoded data removed]",
      "text/plain": [
       "<Figure size 432x288 with 1 Axes>"
      ]
     },
     "metadata": {
      "needs_background": "light"
     },
     "output_type": "display_data"
    }
   ],
   "source": [
    "XGB=XGBClassifier(use_label_encoder=False)\n",
    "XGB.fit(X_train,y_train)\n",
    "\n",
    "pred_train=XGB.predict(X_train)\n",
    "pred_test=XGB.predict(X_test)\n",
    "proba=XGB.predict_proba(X_test)\n",
    "print(metrics.classification_report(y_test,pred_test))\n",
    "print(metrics.confusion_matrix(y_test,pred_test))\n",
    "fpr,tpr,th=metrics.roc_curve(y_test,proba[:,1])\n",
    "plt.plot(fpr,tpr,marker='o')\n",
    "plt.plot([0,1],[0,1])"
   ]
  },
  {
   "cell_type": "code",
   "execution_count": 100,
   "metadata": {},
   "outputs": [],
   "source": [
    "XGBClassifier?"
   ]
  },
  {
   "cell_type": "code",
   "execution_count": 101,
   "metadata": {},
   "outputs": [
    {
     "name": "stdout",
     "output_type": "stream",
     "text": [
      "[11:40:49] WARNING: C:/Users/Administrator/workspace/xgboost-win64_release_1.3.0/src/learner.cc:1061: Starting in XGBoost 1.3.0, the default evaluation metric used with the objective 'binary:logistic' was changed from 'error' to 'logloss'. Explicitly set eval_metric if you'd like to restore the old behavior.\n",
      "              precision    recall  f1-score   support\n",
      "\n",
      "           0       0.90      0.71      0.79     16987\n",
      "           1       0.59      0.83      0.69      8286\n",
      "\n",
      "    accuracy                           0.75     25273\n",
      "   macro avg       0.74      0.77      0.74     25273\n",
      "weighted avg       0.79      0.75      0.76     25273\n",
      "\n",
      "[[12130  4857]\n",
      " [ 1412  6874]]\n"
     ]
    },
    {
     "data": {
      "text/plain": [
       "[<matplotlib.lines.Line2D at 0x19747f1b8e0>]"
      ]
     },
     "execution_count": 101,
     "metadata": {},
     "output_type": "execute_result"
    },
    {
     "data": {
      "image/png": "[encoded data removed]",
      "text/plain": [
       "<Figure size 432x288 with 1 Axes>"
      ]
     },
     "metadata": {
      "needs_background": "light"
     },
     "output_type": "display_data"
    }
   ],
   "source": [
    "XGB=XGBClassifier(use_label_encoder=False,n_estimators=100,learning_rate=.01)\n",
    "XGB.fit(X_train,y_train)\n",
    "\n",
    "pred_train=XGB.predict(X_train)\n",
    "pred_test=XGB.predict(X_test)\n",
    "proba=XGB.predict_proba(X_test)\n",
    "print(metrics.classification_report(y_test,pred_test))\n",
    "print(metrics.confusion_matrix(y_test,pred_test))\n",
    "fpr,tpr,th=metrics.roc_curve(y_test,proba[:,1])\n",
    "plt.plot(fpr,tpr,marker='o')\n",
    "plt.plot([0,1],[0,1])"
   ]
  },
  {
   "cell_type": "markdown",
   "metadata": {},
   "source": [
    "### ------------------------------------------------------------------------------------------------------"
   ]
  },
  {
   "cell_type": "code",
   "execution_count": 102,
   "metadata": {},
   "outputs": [],
   "source": [
    "sub=pd.DataFrame(index=test['OrderId'])"
   ]
  },
  {
   "cell_type": "code",
   "execution_count": 103,
   "metadata": {},
   "outputs": [
    {
     "data": {
      "text/plain": [
       "0    28793\n",
       "1    25363\n",
       "Name: Delivery_Status, dtype: int64"
      ]
     },
     "execution_count": 103,
     "metadata": {},
     "output_type": "execute_result"
    }
   ],
   "source": [
    "sub['Delivery_Status']=XGB.predict(test_X)\n",
    "sub['Delivery_Status'].value_counts()"
   ]
  },
  {
   "cell_type": "code",
   "execution_count": 104,
   "metadata": {},
   "outputs": [],
   "source": [
    "sub.to_csv('Submission.csv')"
   ]
  },
  {
   "cell_type": "code",
   "execution_count": null,
   "metadata": {},
   "outputs": [],
   "source": []
  }
 ],
 "metadata": {
  "kernelspec": {
   "display_name": "Python 3",
   "language": "python",
   "name": "python3"
  },
  "language_info": {
   "codemirror_mode": {
    "name": "ipython",
    "version": 3
   },
   "file_extension": ".py",
   "mimetype": "text/x-python",
   "name": "python",
   "nbconvert_exporter": "python",
   "pygments_lexer": "ipython3",
   "version": "3.8.3"
  }
 },
 "nbformat": 4,
 "nbformat_minor": 4
}
