{
 "cells": [
  {
   "cell_type": "code",
   "execution_count": 643,
   "metadata": {},
   "outputs": [],
   "source": [
    "import pandas as pd\n",
    "import numpy as np\n",
    "import seaborn as sns\n",
    "import matplotlib.pyplot as plt"
   ]
  },
  {
   "cell_type": "code",
   "execution_count": 644,
   "metadata": {},
   "outputs": [],
   "source": [
    "train=pd.read_csv('Train_Set.csv')\n",
    "test=pd.read_csv('Test_Set.csv')"
   ]
  },
  {
   "cell_type": "code",
   "execution_count": 645,
   "metadata": {},
   "outputs": [
    {
     "data": {
      "text/plain": [
       "((126363, 28), (54156, 27))"
      ]
     },
     "execution_count": 645,
     "metadata": {},
     "output_type": "execute_result"
    }
   ],
   "source": [
    "train.shape,test.shape"
   ]
  },
  {
   "cell_type": "markdown",
   "metadata": {},
   "source": [
    "# Null"
   ]
  },
  {
   "cell_type": "code",
   "execution_count": 646,
   "metadata": {},
   "outputs": [
    {
     "data": {
      "text/plain": [
       "OrderId                  0\n",
       "Customer_Id              0\n",
       "Customer_Category        0\n",
       "Cust_State               0\n",
       "Zipcode                  0\n",
       "Sales                 1460\n",
       "Order_zone               0\n",
       "Price                    0\n",
       "CategoryName             0\n",
       "Transcation              0\n",
       "Dept_Id                  0\n",
       "Dept_Name                0\n",
       "Profit_Ratio             0\n",
       "Discount              2174\n",
       "Quantity                 0\n",
       "Order_Profit             0\n",
       "Product_type             0\n",
       "Prod_Category_Id         0\n",
       "ProductLength         1304\n",
       "ProductWeight          307\n",
       "Dispatched               0\n",
       "Shipping_Class           0\n",
       "Scheduled_Shipping       0\n",
       "Warehouse_Region         0\n",
       "Delivery_Review       3896\n",
       "Session_Ordered       2031\n",
       "WeekdayOrder             0\n",
       "dtype: int64"
      ]
     },
     "execution_count": 646,
     "metadata": {},
     "output_type": "execute_result"
    }
   ],
   "source": [
    "test.isna().sum()"
   ]
  },
  {
   "cell_type": "code",
   "execution_count": 647,
   "metadata": {},
   "outputs": [
    {
     "data": {
      "text/plain": [
       "OrderId                  0\n",
       "Customer_Id              0\n",
       "Customer_Category        0\n",
       "Cust_State               0\n",
       "Zipcode                  0\n",
       "Sales                 3614\n",
       "Order_zone               0\n",
       "Price                    0\n",
       "CategoryName             0\n",
       "Transcation              0\n",
       "Dept_Id                  0\n",
       "Dept_Name                0\n",
       "Profit_Ratio             0\n",
       "Discount              5050\n",
       "Quantity                 0\n",
       "Order_Profit             0\n",
       "Product_type             0\n",
       "Prod_Category_Id         0\n",
       "ProductLength         2946\n",
       "ProductWeight          695\n",
       "Dispatched               0\n",
       "Shipping_Class           0\n",
       "Scheduled_Shipping       0\n",
       "Warehouse_Region         0\n",
       "Delivery_Review       9065\n",
       "Session_Ordered       4792\n",
       "WeekdayOrder             0\n",
       "Delivery_Status          0\n",
       "dtype: int64"
      ]
     },
     "execution_count": 647,
     "metadata": {},
     "output_type": "execute_result"
    }
   ],
   "source": [
    "train.isna().sum()"
   ]
  },
  {
   "cell_type": "code",
   "execution_count": 648,
   "metadata": {},
   "outputs": [
    {
     "data": {
      "text/plain": [
       "<matplotlib.axes._subplots.AxesSubplot at 0x1cbefc1aa30>"
      ]
     },
     "execution_count": 648,
     "metadata": {},
     "output_type": "execute_result"
    },
    {
     "data": {
      "image/png": "[encoded data removed]",
      "text/plain": [
       "<Figure size 432x288 with 1 Axes>"
      ]
     },
     "metadata": {
      "needs_background": "light"
     },
     "output_type": "display_data"
    }
   ],
   "source": [
    "sns.distplot(train['Sales'])"
   ]
  },
  {
   "cell_type": "code",
   "execution_count": 649,
   "metadata": {},
   "outputs": [
    {
     "data": {
      "text/plain": [
       "(173.0, 196.11995209736943)"
      ]
     },
     "execution_count": 649,
     "metadata": {},
     "output_type": "execute_result"
    }
   ],
   "source": [
    "train['Sales'].median(),train['Sales'].mean()"
   ]
  },
  {
   "cell_type": "code",
   "execution_count": 650,
   "metadata": {},
   "outputs": [
    {
     "data": {
      "text/plain": [
       "(array([ 0,  1,  2,  3,  4,  5,  6,  7,  8,  9, 10, 11, 12, 13, 14, 15]),\n",
       " <a list of 16 Text major ticklabel objects>)"
      ]
     },
     "execution_count": 650,
     "metadata": {},
     "output_type": "execute_result"
    },
    {
     "data": {
      "image/png": "[encoded data removed]",
      "text/plain": [
       "<Figure size 432x288 with 1 Axes>"
      ]
     },
     "metadata": {
      "needs_background": "light"
     },
     "output_type": "display_data"
    }
   ],
   "source": [
    "sns.countplot(train['Discount'])\n",
    "plt.xticks(rotation='vertical')"
   ]
  },
  {
   "cell_type": "code",
   "execution_count": 651,
   "metadata": {},
   "outputs": [
    {
     "data": {
      "text/plain": [
       "0.0999999999999999"
      ]
     },
     "execution_count": 651,
     "metadata": {},
     "output_type": "execute_result"
    }
   ],
   "source": [
    "train['Discount'].median()"
   ]
  },
  {
   "cell_type": "code",
   "execution_count": 652,
   "metadata": {},
   "outputs": [
    {
     "data": {
      "text/plain": [
       "<matplotlib.axes._subplots.AxesSubplot at 0x1cbefc972b0>"
      ]
     },
     "execution_count": 652,
     "metadata": {},
     "output_type": "execute_result"
    },
    {
     "data": {
      "image/png": "[encoded data removed]",
      "text/plain": [
       "<Figure size 432x288 with 1 Axes>"
      ]
     },
     "metadata": {
      "needs_background": "light"
     },
     "output_type": "display_data"
    }
   ],
   "source": [
    "train['ProductLength'].hist()"
   ]
  },
  {
   "cell_type": "code",
   "execution_count": 653,
   "metadata": {},
   "outputs": [
    {
     "data": {
      "text/plain": [
       "(84.0, 95.97617832227327)"
      ]
     },
     "execution_count": 653,
     "metadata": {},
     "output_type": "execute_result"
    }
   ],
   "source": [
    "train['ProductLength'].median(),train['ProductLength'].mean()"
   ]
  },
  {
   "cell_type": "code",
   "execution_count": 654,
   "metadata": {},
   "outputs": [
    {
     "data": {
      "text/plain": [
       "<matplotlib.axes._subplots.AxesSubplot at 0x1cbefcdabb0>"
      ]
     },
     "execution_count": 654,
     "metadata": {},
     "output_type": "execute_result"
    },
    {
     "data": {
      "image/png": "[encoded data removed]",
      "text/plain": [
       "<Figure size 432x288 with 1 Axes>"
      ]
     },
     "metadata": {
      "needs_background": "light"
     },
     "output_type": "display_data"
    }
   ],
   "source": [
    "train['ProductWeight'].hist()"
   ]
  },
  {
   "cell_type": "code",
   "execution_count": 655,
   "metadata": {},
   "outputs": [
    {
     "data": {
      "text/plain": [
       "(1640.0, 95.97617832227327)"
      ]
     },
     "execution_count": 655,
     "metadata": {},
     "output_type": "execute_result"
    }
   ],
   "source": [
    "train['ProductWeight'].median(),train['ProductLength'].mean()"
   ]
  },
  {
   "cell_type": "code",
   "execution_count": 656,
   "metadata": {},
   "outputs": [
    {
     "name": "stdout",
     "output_type": "stream",
     "text": [
      "(113462,)\n"
     ]
    },
    {
     "data": {
      "text/plain": [
       "<matplotlib.axes._subplots.AxesSubplot at 0x1cbefc74d90>"
      ]
     },
     "execution_count": 656,
     "metadata": {},
     "output_type": "execute_result"
    },
    {
     "data": {
      "image/png": "[encoded data removed]",
      "text/plain": [
       "<Figure size 432x288 with 1 Axes>"
      ]
     },
     "metadata": {
      "needs_background": "light"
     },
     "output_type": "display_data"
    }
   ],
   "source": [
    "print(train[train['ProductWeight']<4000]['ProductWeight'].shape)\n",
    "train[train['ProductWeight']<4000]['ProductWeight'].hist()"
   ]
  },
  {
   "cell_type": "code",
   "execution_count": 657,
   "metadata": {},
   "outputs": [
    {
     "data": {
      "text/plain": [
       "(1565.1498563395674, 1489.0)"
      ]
     },
     "execution_count": 657,
     "metadata": {},
     "output_type": "execute_result"
    }
   ],
   "source": [
    "train[train['ProductWeight']<4000]['ProductWeight'].mean(),train[train['ProductWeight']<4000]['ProductWeight'].median()"
   ]
  },
  {
   "cell_type": "code",
   "execution_count": 658,
   "metadata": {},
   "outputs": [
    {
     "data": {
      "text/plain": [
       "4.0    42860\n",
       "3.0    41201\n",
       "2.0    19732\n",
       "5.0    11640\n",
       "1.0     1865\n",
       "Name: Delivery_Review, dtype: int64"
      ]
     },
     "execution_count": 658,
     "metadata": {},
     "output_type": "execute_result"
    }
   ],
   "source": [
    "train['Delivery_Review'].value_counts()"
   ]
  },
  {
   "cell_type": "code",
   "execution_count": 659,
   "metadata": {},
   "outputs": [
    {
     "data": {
      "text/plain": [
       "3.0"
      ]
     },
     "execution_count": 659,
     "metadata": {},
     "output_type": "execute_result"
    }
   ],
   "source": [
    "train['Delivery_Review'].median()"
   ]
  },
  {
   "cell_type": "code",
   "execution_count": 660,
   "metadata": {},
   "outputs": [
    {
     "name": "stdout",
     "output_type": "stream",
     "text": [
      "2.00149706755723 2.0\n"
     ]
    },
    {
     "data": {
      "text/plain": [
       "2.0    40873\n",
       "3.0    40440\n",
       "1.0    40258\n",
       "Name: Session_Ordered, dtype: int64"
      ]
     },
     "execution_count": 660,
     "metadata": {},
     "output_type": "execute_result"
    }
   ],
   "source": [
    "print(train['Session_Ordered'].mean(),train['Session_Ordered'].median())\n",
    "train['Session_Ordered'].value_counts()"
   ]
  },
  {
   "cell_type": "code",
   "execution_count": 661,
   "metadata": {},
   "outputs": [],
   "source": [
    "from sklearn.impute import SimpleImputer\n",
    "SI=SimpleImputer(strategy='median',missing_values=np.nan)"
   ]
  },
  {
   "cell_type": "code",
   "execution_count": 662,
   "metadata": {},
   "outputs": [],
   "source": [
    "SI.fit(train[['Session_Ordered']])\n",
    "train['Session_Ordered']=SI.transform(train[['Session_Ordered']])\n",
    "test['Session_Ordered']=SI.transform(test[['Session_Ordered']])"
   ]
  },
  {
   "cell_type": "code",
   "execution_count": 663,
   "metadata": {},
   "outputs": [],
   "source": [
    "SI.fit(train[['Delivery_Review']])\n",
    "train['Delivery_Review']=SI.transform(train[['Delivery_Review']])\n",
    "test['Delivery_Review']=SI.transform(test[['Delivery_Review']])"
   ]
  },
  {
   "cell_type": "code",
   "execution_count": 664,
   "metadata": {},
   "outputs": [],
   "source": [
    "SI.fit(train[['ProductWeight']])\n",
    "train['ProductWeight']=SI.transform(train[['ProductWeight']])\n",
    "test['ProductWeight']=SI.transform(test[['ProductWeight']])"
   ]
  },
  {
   "cell_type": "code",
   "execution_count": 665,
   "metadata": {},
   "outputs": [],
   "source": [
    "SI=SimpleImputer(strategy='median',missing_values=np.nan)\n",
    "SI.fit(train[['ProductLength']])\n",
    "train['ProductLength']=SI.transform(train[['ProductLength']])\n",
    "test['ProductLength']=SI.transform(test[['ProductLength']])"
   ]
  },
  {
   "cell_type": "code",
   "execution_count": 666,
   "metadata": {},
   "outputs": [],
   "source": [
    "SI.fit(train[['Sales']])\n",
    "train['Sales']=SI.transform(train[['Sales']])\n",
    "test['Sales']=SI.transform(test[['Sales']])"
   ]
  },
  {
   "cell_type": "code",
   "execution_count": 667,
   "metadata": {},
   "outputs": [],
   "source": [
    "SI=SimpleImputer(strategy='median',missing_values=np.nan)\n",
    "SI.fit(train[['Discount']])\n",
    "train['Discount']=SI.transform(train[['Discount']])\n",
    "test['Discount']=SI.transform(test[['Discount']])"
   ]
  },
  {
   "cell_type": "code",
   "execution_count": 668,
   "metadata": {},
   "outputs": [
    {
     "data": {
      "text/plain": [
       "OrderId               0\n",
       "Customer_Id           0\n",
       "Customer_Category     0\n",
       "Cust_State            0\n",
       "Zipcode               0\n",
       "Sales                 0\n",
       "Order_zone            0\n",
       "Price                 0\n",
       "CategoryName          0\n",
       "Transcation           0\n",
       "Dept_Id               0\n",
       "Dept_Name             0\n",
       "Profit_Ratio          0\n",
       "Discount              0\n",
       "Quantity              0\n",
       "Order_Profit          0\n",
       "Product_type          0\n",
       "Prod_Category_Id      0\n",
       "ProductLength         0\n",
       "ProductWeight         0\n",
       "Dispatched            0\n",
       "Shipping_Class        0\n",
       "Scheduled_Shipping    0\n",
       "Warehouse_Region      0\n",
       "Delivery_Review       0\n",
       "Session_Ordered       0\n",
       "WeekdayOrder          0\n",
       "Delivery_Status       0\n",
       "dtype: int64"
      ]
     },
     "execution_count": 668,
     "metadata": {},
     "output_type": "execute_result"
    }
   ],
   "source": [
    "train.isna().sum()"
   ]
  },
  {
   "cell_type": "markdown",
   "metadata": {},
   "source": [
    "#### Outlier & Scaling"
   ]
  },
  {
   "cell_type": "code",
   "execution_count": 669,
   "metadata": {},
   "outputs": [
    {
     "data": {
      "text/plain": [
       "6.0     13450\n",
       "16.0    13411\n",
       "10.0    11847\n",
       "3.0      6882\n",
       "4.0      6873\n",
       "21.0     6798\n",
       "1.0      6787\n",
       "7.0      6762\n",
       "11.0     6754\n",
       "19.0     6734\n",
       "18.0     6733\n",
       "13.0     6702\n",
       "25.0     6698\n",
       "2.0      6668\n",
       "12.0     6636\n",
       "0.0      6628\n",
       "Name: Discount, dtype: int64"
      ]
     },
     "execution_count": 669,
     "metadata": {},
     "output_type": "execute_result"
    }
   ],
   "source": [
    "(train['Discount']*100).value_counts()"
   ]
  },
  {
   "cell_type": "code",
   "execution_count": 670,
   "metadata": {},
   "outputs": [
    {
     "data": {
      "text/plain": [
       "6.0     5819\n",
       "16.0    5785\n",
       "10.0    4984\n",
       "0.0     3016\n",
       "12.0    2987\n",
       "2.0     2958\n",
       "13.0    2917\n",
       "18.0    2910\n",
       "19.0    2908\n",
       "25.0    2889\n",
       "11.0    2866\n",
       "21.0    2853\n",
       "7.0     2852\n",
       "1.0     2833\n",
       "3.0     2810\n",
       "4.0     2769\n",
       "Name: Discount, dtype: int64"
      ]
     },
     "execution_count": 670,
     "metadata": {},
     "output_type": "execute_result"
    }
   ],
   "source": [
    "(test['Discount']*100).value_counts()"
   ]
  },
  {
   "cell_type": "code",
   "execution_count": 671,
   "metadata": {},
   "outputs": [],
   "source": [
    "train['Discount']=train['Discount']*100\n",
    "test['Discount']=test['Discount']*100"
   ]
  },
  {
   "cell_type": "code",
   "execution_count": 672,
   "metadata": {},
   "outputs": [],
   "source": [
    "train['Sales']=np.round(train['Sales'])\n",
    "test['Sales']=np.round(test['Sales'])"
   ]
  },
  {
   "cell_type": "code",
   "execution_count": null,
   "metadata": {},
   "outputs": [],
   "source": []
  },
  {
   "cell_type": "code",
   "execution_count": 673,
   "metadata": {},
   "outputs": [],
   "source": [
    "num=train[['Sales','Price','Profit_Ratio','Order_Profit ','ProductLength','ProductWeight']].copy(deep=True)\n",
    "test_num=test[num.columns].copy(deep=True)"
   ]
  },
  {
   "cell_type": "code",
   "execution_count": 674,
   "metadata": {},
   "outputs": [
    {
     "data": {
      "text/html": [
       "<div>\n",
       "<style scoped>\n",
       "    .dataframe tbody tr th:only-of-type {\n",
       "        vertical-align: middle;\n",
       "    }\n",
       "\n",
       "    .dataframe tbody tr th {\n",
       "        vertical-align: top;\n",
       "    }\n",
       "\n",
       "    .dataframe thead th {\n",
       "        text-align: right;\n",
       "    }\n",
       "</style>\n",
       "<table border=\"1\" class=\"dataframe\">\n",
       "  <thead>\n",
       "    <tr style=\"text-align: right;\">\n",
       "      <th></th>\n",
       "      <th>Sales</th>\n",
       "      <th>Price</th>\n",
       "      <th>Profit_Ratio</th>\n",
       "      <th>Order_Profit</th>\n",
       "      <th>ProductLength</th>\n",
       "      <th>ProductWeight</th>\n",
       "    </tr>\n",
       "  </thead>\n",
       "  <tbody>\n",
       "    <tr>\n",
       "      <th>0</th>\n",
       "      <td>150.0</td>\n",
       "      <td>4383.39</td>\n",
       "      <td>0.08</td>\n",
       "      <td>352.78</td>\n",
       "      <td>191.0</td>\n",
       "      <td>1592.0</td>\n",
       "    </tr>\n",
       "    <tr>\n",
       "      <th>1</th>\n",
       "      <td>165.0</td>\n",
       "      <td>4295.72</td>\n",
       "      <td>0.47</td>\n",
       "      <td>2018.10</td>\n",
       "      <td>79.0</td>\n",
       "      <td>1420.0</td>\n",
       "    </tr>\n",
       "    <tr>\n",
       "      <th>2</th>\n",
       "      <td>171.0</td>\n",
       "      <td>3616.65</td>\n",
       "      <td>0.26</td>\n",
       "      <td>939.63</td>\n",
       "      <td>67.0</td>\n",
       "      <td>1231.0</td>\n",
       "    </tr>\n",
       "    <tr>\n",
       "      <th>3</th>\n",
       "      <td>132.0</td>\n",
       "      <td>9175.86</td>\n",
       "      <td>0.48</td>\n",
       "      <td>4401.74</td>\n",
       "      <td>45.0</td>\n",
       "      <td>1640.0</td>\n",
       "    </tr>\n",
       "    <tr>\n",
       "      <th>4</th>\n",
       "      <td>173.0</td>\n",
       "      <td>2779.29</td>\n",
       "      <td>0.13</td>\n",
       "      <td>361.70</td>\n",
       "      <td>43.0</td>\n",
       "      <td>1018.0</td>\n",
       "    </tr>\n",
       "  </tbody>\n",
       "</table>\n",
       "</div>"
      ],
      "text/plain": [
       "   Sales    Price  Profit_Ratio  Order_Profit   ProductLength  ProductWeight\n",
       "0  150.0  4383.39          0.08         352.78          191.0         1592.0\n",
       "1  165.0  4295.72          0.47        2018.10           79.0         1420.0\n",
       "2  171.0  3616.65          0.26         939.63           67.0         1231.0\n",
       "3  132.0  9175.86          0.48        4401.74           45.0         1640.0\n",
       "4  173.0  2779.29          0.13         361.70           43.0         1018.0"
      ]
     },
     "execution_count": 674,
     "metadata": {},
     "output_type": "execute_result"
    }
   ],
   "source": [
    "num.head()"
   ]
  },
  {
   "cell_type": "raw",
   "metadata": {},
   "source": [
    "num=num.drop('Profit_Ratio',axis=1)\n",
    "test_num=test_num.drop('Profit_Ratio',axis=1)"
   ]
  },
  {
   "cell_type": "code",
   "execution_count": 675,
   "metadata": {},
   "outputs": [
    {
     "data": {
      "text/plain": [
       "<matplotlib.axes._subplots.AxesSubplot at 0x1cbf305d4f0>"
      ]
     },
     "execution_count": 675,
     "metadata": {},
     "output_type": "execute_result"
    },
    {
     "data": {
      "image/png": "[encoded data removed]",
      "text/plain": [
       "<Figure size 432x288 with 2 Axes>"
      ]
     },
     "metadata": {
      "needs_background": "light"
     },
     "output_type": "display_data"
    }
   ],
   "source": [
    "sns.heatmap(num.corr(),annot=True)"
   ]
  },
  {
   "cell_type": "raw",
   "metadata": {},
   "source": [
    "#using per unit sales:\n",
    "num['PerUt_sales']=num['Price']/num['Sales']\n",
    "test_num['PerUt_sales']=test_num['Price']/test_num['Sales']"
   ]
  },
  {
   "cell_type": "code",
   "execution_count": 676,
   "metadata": {},
   "outputs": [
    {
     "data": {
      "text/plain": [
       "Index(['Sales', 'Price', 'Profit_Ratio', 'Order_Profit ', 'ProductLength',\n",
       "       'ProductWeight'],\n",
       "      dtype='object')"
      ]
     },
     "execution_count": 676,
     "metadata": {},
     "output_type": "execute_result"
    }
   ],
   "source": [
    "num.columns"
   ]
  },
  {
   "cell_type": "code",
   "execution_count": 677,
   "metadata": {},
   "outputs": [
    {
     "data": {
      "text/plain": [
       "Sales            2.793369\n",
       "Price            3.171663\n",
       "Profit_Ratio    -2.870356\n",
       "Order_Profit    -4.946131\n",
       "ProductLength    0.455014\n",
       "ProductWeight    3.575051\n",
       "dtype: float64"
      ]
     },
     "execution_count": 677,
     "metadata": {},
     "output_type": "execute_result"
    }
   ],
   "source": [
    "num.skew()"
   ]
  },
  {
   "cell_type": "code",
   "execution_count": 678,
   "metadata": {},
   "outputs": [
    {
     "data": {
      "text/plain": [
       "Sales           -0.534220\n",
       "Price            0.321208\n",
       "Profit_Ratio          NaN\n",
       "Order_Profit    -1.316721\n",
       "ProductLength   -0.707207\n",
       "ProductWeight    0.113135\n",
       "dtype: float64"
      ]
     },
     "execution_count": 678,
     "metadata": {},
     "output_type": "execute_result"
    }
   ],
   "source": [
    "np.log(num).skew()"
   ]
  },
  {
   "cell_type": "code",
   "execution_count": 679,
   "metadata": {},
   "outputs": [
    {
     "data": {
      "text/plain": [
       "Sales            0.141182\n",
       "Price            0.825265\n",
       "Profit_Ratio    -1.608958\n",
       "Order_Profit    -1.399795\n",
       "ProductLength   -0.234591\n",
       "ProductWeight    1.883932\n",
       "dtype: float64"
      ]
     },
     "execution_count": 679,
     "metadata": {},
     "output_type": "execute_result"
    }
   ],
   "source": [
    "np.cbrt(num).skew()"
   ]
  },
  {
   "cell_type": "code",
   "execution_count": 680,
   "metadata": {},
   "outputs": [
    {
     "data": {
      "text/plain": [
       "Sales            0.557188\n",
       "Price            1.138023\n",
       "Profit_Ratio    -0.962066\n",
       "Order_Profit     1.166158\n",
       "ProductLength   -0.032962\n",
       "ProductWeight    2.524735\n",
       "dtype: float64"
      ]
     },
     "execution_count": 680,
     "metadata": {},
     "output_type": "execute_result"
    }
   ],
   "source": [
    "np.sqrt(num).skew()"
   ]
  },
  {
   "cell_type": "code",
   "execution_count": 681,
   "metadata": {},
   "outputs": [],
   "source": [
    "num['Order_Profit ']=np.cbrt(num['Order_Profit '])"
   ]
  },
  {
   "cell_type": "code",
   "execution_count": 682,
   "metadata": {},
   "outputs": [],
   "source": [
    "num[['Sales']]=np.cbrt(num[['Sales']])\n",
    "num[['Price','ProductWeight']]=np.log(num[['Price','ProductWeight']])\n",
    "num[['ProductLength']]=np.sqrt(num[['ProductLength']])"
   ]
  },
  {
   "cell_type": "code",
   "execution_count": 683,
   "metadata": {},
   "outputs": [],
   "source": [
    "\n",
    "test_num[['Order_Profit ']]=np.cbrt(test_num[['Order_Profit ']])\n",
    "test_num[['Sales']]=np.cbrt(test_num[['Sales']])\n",
    "test_num[['Price','ProductWeight']]=np.log(test_num[['Price','ProductWeight']])\n",
    "test_num[['ProductLength']]=np.sqrt(test_num[['ProductLength']])"
   ]
  },
  {
   "cell_type": "markdown",
   "metadata": {},
   "source": [
    "#### CAT NUMERIC Transform"
   ]
  },
  {
   "cell_type": "code",
   "execution_count": 684,
   "metadata": {},
   "outputs": [
    {
     "data": {
      "text/plain": [
       "Index(['Sales', 'Price', 'Profit_Ratio', 'Order_Profit ', 'ProductLength',\n",
       "       'ProductWeight'],\n",
       "      dtype='object')"
      ]
     },
     "execution_count": 684,
     "metadata": {},
     "output_type": "execute_result"
    }
   ],
   "source": [
    "num.columns"
   ]
  },
  {
   "cell_type": "code",
   "execution_count": 685,
   "metadata": {},
   "outputs": [
    {
     "data": {
      "text/html": [
       "<div>\n",
       "<style scoped>\n",
       "    .dataframe tbody tr th:only-of-type {\n",
       "        vertical-align: middle;\n",
       "    }\n",
       "\n",
       "    .dataframe tbody tr th {\n",
       "        vertical-align: top;\n",
       "    }\n",
       "\n",
       "    .dataframe thead th {\n",
       "        text-align: right;\n",
       "    }\n",
       "</style>\n",
       "<table border=\"1\" class=\"dataframe\">\n",
       "  <thead>\n",
       "    <tr style=\"text-align: right;\">\n",
       "      <th></th>\n",
       "      <th>Customer_Id</th>\n",
       "      <th>Customer_Category</th>\n",
       "      <th>Cust_State</th>\n",
       "      <th>Zipcode</th>\n",
       "      <th>Order_zone</th>\n",
       "      <th>CategoryName</th>\n",
       "      <th>Transcation</th>\n",
       "      <th>Dept_Id</th>\n",
       "      <th>Dept_Name</th>\n",
       "      <th>Discount</th>\n",
       "      <th>Quantity</th>\n",
       "      <th>Product_type</th>\n",
       "      <th>Prod_Category_Id</th>\n",
       "      <th>Dispatched</th>\n",
       "      <th>Shipping_Class</th>\n",
       "      <th>Scheduled_Shipping</th>\n",
       "      <th>Warehouse_Region</th>\n",
       "      <th>Delivery_Review</th>\n",
       "      <th>Session_Ordered</th>\n",
       "      <th>WeekdayOrder</th>\n",
       "    </tr>\n",
       "  </thead>\n",
       "  <tbody>\n",
       "    <tr>\n",
       "      <th>0</th>\n",
       "      <td>12386</td>\n",
       "      <td>Consumer</td>\n",
       "      <td>AR</td>\n",
       "      <td>19120</td>\n",
       "      <td>Central</td>\n",
       "      <td>Cat-2</td>\n",
       "      <td>UPI</td>\n",
       "      <td>4</td>\n",
       "      <td>Apparel</td>\n",
       "      <td>10.0</td>\n",
       "      <td>3</td>\n",
       "      <td>Fragile</td>\n",
       "      <td>17</td>\n",
       "      <td>0</td>\n",
       "      <td>Standard</td>\n",
       "      <td>4</td>\n",
       "      <td>NORTH</td>\n",
       "      <td>5.0</td>\n",
       "      <td>2.0</td>\n",
       "      <td>0</td>\n",
       "    </tr>\n",
       "    <tr>\n",
       "      <th>1</th>\n",
       "      <td>2630</td>\n",
       "      <td>Consumer</td>\n",
       "      <td>BR</td>\n",
       "      <td>2907</td>\n",
       "      <td>East</td>\n",
       "      <td>Cat-2</td>\n",
       "      <td>UPI</td>\n",
       "      <td>4</td>\n",
       "      <td>Apparel</td>\n",
       "      <td>16.0</td>\n",
       "      <td>3</td>\n",
       "      <td>Fragile</td>\n",
       "      <td>17</td>\n",
       "      <td>0</td>\n",
       "      <td>Standard</td>\n",
       "      <td>6</td>\n",
       "      <td>NORTH</td>\n",
       "      <td>2.0</td>\n",
       "      <td>2.0</td>\n",
       "      <td>1</td>\n",
       "    </tr>\n",
       "    <tr>\n",
       "      <th>2</th>\n",
       "      <td>1752</td>\n",
       "      <td>Corporate</td>\n",
       "      <td>RJ</td>\n",
       "      <td>90214</td>\n",
       "      <td>South</td>\n",
       "      <td>Cat-50</td>\n",
       "      <td>Cash</td>\n",
       "      <td>7</td>\n",
       "      <td>Fan Shop</td>\n",
       "      <td>7.0</td>\n",
       "      <td>4</td>\n",
       "      <td>Not Fragile</td>\n",
       "      <td>46</td>\n",
       "      <td>0</td>\n",
       "      <td>Standard</td>\n",
       "      <td>6</td>\n",
       "      <td>SOUTH</td>\n",
       "      <td>4.0</td>\n",
       "      <td>2.0</td>\n",
       "      <td>0</td>\n",
       "    </tr>\n",
       "    <tr>\n",
       "      <th>3</th>\n",
       "      <td>9268</td>\n",
       "      <td>Consumer</td>\n",
       "      <td>UP</td>\n",
       "      <td>745</td>\n",
       "      <td>East</td>\n",
       "      <td>Cat-12</td>\n",
       "      <td>Credit</td>\n",
       "      <td>4</td>\n",
       "      <td>Apparel</td>\n",
       "      <td>18.0</td>\n",
       "      <td>1</td>\n",
       "      <td>Not Fragile</td>\n",
       "      <td>18</td>\n",
       "      <td>1</td>\n",
       "      <td>2A</td>\n",
       "      <td>4</td>\n",
       "      <td>NORTH</td>\n",
       "      <td>4.0</td>\n",
       "      <td>3.0</td>\n",
       "      <td>1</td>\n",
       "    </tr>\n",
       "    <tr>\n",
       "      <th>4</th>\n",
       "      <td>2888</td>\n",
       "      <td>Corporate</td>\n",
       "      <td>UP</td>\n",
       "      <td>92427</td>\n",
       "      <td>North</td>\n",
       "      <td>Cat-3</td>\n",
       "      <td>UPI</td>\n",
       "      <td>5</td>\n",
       "      <td>Golf</td>\n",
       "      <td>16.0</td>\n",
       "      <td>4</td>\n",
       "      <td>Not Fragile</td>\n",
       "      <td>29</td>\n",
       "      <td>1</td>\n",
       "      <td>Standard</td>\n",
       "      <td>5</td>\n",
       "      <td>CENTRAL</td>\n",
       "      <td>2.0</td>\n",
       "      <td>1.0</td>\n",
       "      <td>0</td>\n",
       "    </tr>\n",
       "  </tbody>\n",
       "</table>\n",
       "</div>"
      ],
      "text/plain": [
       "   Customer_Id Customer_Category Cust_State  Zipcode Order_zone CategoryName  \\\n",
       "0        12386          Consumer         AR    19120    Central        Cat-2   \n",
       "1         2630          Consumer         BR     2907       East        Cat-2   \n",
       "2         1752         Corporate         RJ    90214      South       Cat-50   \n",
       "3         9268          Consumer         UP      745       East       Cat-12   \n",
       "4         2888         Corporate         UP    92427      North        Cat-3   \n",
       "\n",
       "  Transcation  Dept_Id Dept_Name  Discount  Quantity Product_type  \\\n",
       "0         UPI        4   Apparel      10.0         3      Fragile   \n",
       "1         UPI        4   Apparel      16.0         3      Fragile   \n",
       "2        Cash        7  Fan Shop       7.0         4  Not Fragile   \n",
       "3      Credit        4   Apparel      18.0         1  Not Fragile   \n",
       "4         UPI        5      Golf      16.0         4  Not Fragile   \n",
       "\n",
       "   Prod_Category_Id  Dispatched Shipping_Class  Scheduled_Shipping  \\\n",
       "0                17           0       Standard                   4   \n",
       "1                17           0       Standard                   6   \n",
       "2                46           0       Standard                   6   \n",
       "3                18           1             2A                   4   \n",
       "4                29           1       Standard                   5   \n",
       "\n",
       "  Warehouse_Region  Delivery_Review  Session_Ordered  WeekdayOrder  \n",
       "0            NORTH              5.0              2.0             0  \n",
       "1            NORTH              2.0              2.0             1  \n",
       "2            SOUTH              4.0              2.0             0  \n",
       "3            NORTH              4.0              3.0             1  \n",
       "4          CENTRAL              2.0              1.0             0  "
      ]
     },
     "execution_count": 685,
     "metadata": {},
     "output_type": "execute_result"
    }
   ],
   "source": [
    "cat=train.drop(num.columns,axis=1)\n",
    "cat=cat.drop(['OrderId','Delivery_Status'],axis=1)\n",
    "cat.head()"
   ]
  },
  {
   "cell_type": "code",
   "execution_count": 686,
   "metadata": {},
   "outputs": [],
   "source": [
    "test_cat=test.drop(test_num.columns,axis=1)\n",
    "test_cat=test_cat.drop(['OrderId'],axis=1)\n",
    "#test_cat.head()"
   ]
  },
  {
   "cell_type": "code",
   "execution_count": 687,
   "metadata": {},
   "outputs": [],
   "source": [
    "y=train['Delivery_Status']"
   ]
  },
  {
   "cell_type": "markdown",
   "metadata": {},
   "source": [
    "## 1---------------------------------------------------------------------------------------------------"
   ]
  },
  {
   "cell_type": "code",
   "execution_count": 688,
   "metadata": {},
   "outputs": [],
   "source": [
    "z=pd.DataFrame(train['Customer_Id'].value_counts())\n",
    "#mapping zip codes\n",
    "#print(z)\n",
    "new=[]\n",
    "for i in train['Customer_Id']:\n",
    "    m=z.loc[i]['Customer_Id']\n",
    "    if m<3:\n",
    "        new.append('G1')\n",
    "    elif m>=3 and m<6:\n",
    "        new.append('G2')\n",
    "    elif m>=6 and m<8:\n",
    "        new.append('G3')\n",
    "    elif m>=8 and m<10:\n",
    "        new.append('G4')\n",
    "    elif m>=10 and m<12:\n",
    "        new.append('G5')\n",
    "    elif m>=12 and m<14:\n",
    "        new.append('G6')\n",
    "    elif m>=15 and m<18:\n",
    "        new.append('G7')\n",
    "    elif m>=18 and m<21:\n",
    "        new.append('G8')\n",
    "    else:\n",
    "        new.append('G9')"
   ]
  },
  {
   "cell_type": "code",
   "execution_count": 689,
   "metadata": {},
   "outputs": [
    {
     "data": {
      "text/plain": [
       "G5    28557\n",
       "G4    25178\n",
       "G6    23850\n",
       "G3    14275\n",
       "G7    12393\n",
       "G9     8961\n",
       "G2     5552\n",
       "G1     5094\n",
       "G8     2503\n",
       "dtype: int64"
      ]
     },
     "execution_count": 689,
     "metadata": {},
     "output_type": "execute_result"
    }
   ],
   "source": [
    "pd.Series(new).value_counts()"
   ]
  },
  {
   "cell_type": "code",
   "execution_count": 690,
   "metadata": {},
   "outputs": [],
   "source": [
    "cat['Customer_Id']=new\n"
   ]
  },
  {
   "cell_type": "code",
   "execution_count": null,
   "metadata": {},
   "outputs": [],
   "source": []
  },
  {
   "cell_type": "code",
   "execution_count": 691,
   "metadata": {},
   "outputs": [],
   "source": [
    "new=[]\n",
    "for i in test['Customer_Id']:\n",
    "    if i in z.index:\n",
    "        m=z.loc[i]['Customer_Id']\n",
    "        if m<3:\n",
    "            new.append('G1')\n",
    "        elif m>=3 and m<6:\n",
    "            new.append('G2')\n",
    "        elif m>=6 and m<8:\n",
    "            new.append('G3')\n",
    "        elif m>=8 and m<10:\n",
    "            new.append('G4')\n",
    "        elif m>=10 and m<12:\n",
    "            new.append('G5')\n",
    "        elif m>=12 and m<14:\n",
    "            new.append('G6')\n",
    "        elif m>=15 and m<18:\n",
    "            new.append('G7')\n",
    "        elif m>=18 and m<21:\n",
    "            new.append('G8')\n",
    "        else:\n",
    "            new.append('G9')\n",
    "    else:\n",
    "        new.append('G8')"
   ]
  },
  {
   "cell_type": "code",
   "execution_count": 692,
   "metadata": {},
   "outputs": [],
   "source": [
    "test_cat['Customer_Id']=new\n"
   ]
  },
  {
   "cell_type": "markdown",
   "metadata": {},
   "source": [
    "## 2----------------------------------------------------------------------"
   ]
  },
  {
   "cell_type": "code",
   "execution_count": 693,
   "metadata": {},
   "outputs": [],
   "source": [
    "z=pd.DataFrame(train['Zipcode'].value_counts())\n",
    "#mapping zip codes\n",
    "#print(z)\n",
    "new=[]\n",
    "for i in train['Zipcode']:\n",
    "    m=z.loc[i]['Zipcode']\n",
    "    if m<4:\n",
    "        new.append('G1')\n",
    "    elif m>=4 and m<6:\n",
    "        new.append('G2')\n",
    "    elif m>=6 and m<10:\n",
    "        new.append('G3')\n",
    "    elif m>=10 and m<13:\n",
    "        new.append('G4')\n",
    "    elif m>=13 and m<16:\n",
    "        new.append('G5')\n",
    "    elif m>=16 and m<19:\n",
    "        new.append('G6')\n",
    "    elif m>=19 and m<22:\n",
    "        new.append('G7')\n",
    "    else:\n",
    "        new.append('G8')"
   ]
  },
  {
   "cell_type": "code",
   "execution_count": 694,
   "metadata": {},
   "outputs": [],
   "source": [
    "cat['Zipcode']=new"
   ]
  },
  {
   "cell_type": "code",
   "execution_count": 695,
   "metadata": {},
   "outputs": [],
   "source": [
    "new=[]\n",
    "for i in test['Zipcode']:\n",
    "    if i in z.index:\n",
    "        m=z.loc[i]['Zipcode']\n",
    "        if m<4:\n",
    "            new.append('G1')\n",
    "        elif m>=4 and m<6:\n",
    "            new.append('G2')\n",
    "        elif m>=6 and m<10:\n",
    "            new.append('G3')\n",
    "        elif m>=10 and m<13:\n",
    "            new.append('G4')\n",
    "        elif m>=13 and m<16:\n",
    "            new.append('G5')\n",
    "        elif m>=16 and m<19:\n",
    "            new.append('G6')\n",
    "        elif m>=19 and m<22:\n",
    "            new.append('G7')\n",
    "        else:\n",
    "            new.append('G8')\n",
    "    else:\n",
    "        new.append('G5')"
   ]
  },
  {
   "cell_type": "code",
   "execution_count": 696,
   "metadata": {},
   "outputs": [],
   "source": [
    "\n",
    "test_cat['Zipcode']=new\n"
   ]
  },
  {
   "cell_type": "markdown",
   "metadata": {},
   "source": [
    "## 3---------------------------------------------------------------------------------"
   ]
  },
  {
   "cell_type": "code",
   "execution_count": 697,
   "metadata": {},
   "outputs": [
    {
     "data": {
      "text/plain": [
       "Cat-2     17297\n",
       "Cat-12    15489\n",
       "Cat-4     14762\n",
       "Cat-50    13551\n",
       "Cat-32    12223\n",
       "Cat-49    10810\n",
       "Cat-13     9564\n",
       "Cat-7      8735\n",
       "Cat-3      7593\n",
       "Cat-5      2203\n",
       "Cat-20     1232\n",
       "Cat-27     1016\n",
       "Cat-19      854\n",
       "Cat-42      799\n",
       "Cat-8       667\n",
       "Cat-41      609\n",
       "Cat-11      458\n",
       "Cat-21      448\n",
       "Cat-29      447\n",
       "Cat-37      418\n",
       "Cat-15      405\n",
       "Cat-48      375\n",
       "Cat-44      365\n",
       "Cat-22      358\n",
       "Cat-36      345\n",
       "Cat-38      336\n",
       "Cat-34      335\n",
       "Cat-45      317\n",
       "Cat-10      311\n",
       "Cat-40      309\n",
       "Cat-16      305\n",
       "Cat-14      304\n",
       "Cat-6       304\n",
       "Cat-33      272\n",
       "Cat-1       265\n",
       "Cat-9       262\n",
       "Cat-39      243\n",
       "Cat-30      230\n",
       "Cat-24      222\n",
       "Cat-47      202\n",
       "Cat-25      202\n",
       "Cat-35      202\n",
       "Cat-23      152\n",
       "Cat-31      137\n",
       "Cat-46      124\n",
       "Cat-18       92\n",
       "Cat-28       82\n",
       "Cat-17       51\n",
       "Cat-43       41\n",
       "Cat-26       40\n",
       "Name: CategoryName, dtype: int64"
      ]
     },
     "execution_count": 697,
     "metadata": {},
     "output_type": "execute_result"
    }
   ],
   "source": [
    "train['CategoryName'].value_counts()"
   ]
  },
  {
   "cell_type": "code",
   "execution_count": 698,
   "metadata": {},
   "outputs": [
    {
     "data": {
      "text/plain": [
       "Index(['Cat-2', 'Cat-12', 'Cat-4', 'Cat-50', 'Cat-32', 'Cat-49', 'Cat-13',\n",
       "       'Cat-7', 'Cat-3', 'Cat-5', 'Cat-20', 'Cat-27'],\n",
       "      dtype='object')"
      ]
     },
     "execution_count": 698,
     "metadata": {},
     "output_type": "execute_result"
    }
   ],
   "source": [
    "z=train['CategoryName'].value_counts()\n",
    "idx=z[z>1000].index\n",
    "idx"
   ]
  },
  {
   "cell_type": "code",
   "execution_count": 699,
   "metadata": {},
   "outputs": [],
   "source": [
    "z=pd.DataFrame(train['CategoryName'].value_counts())\n",
    "#mapping zip codes\n",
    "#print(z)\n",
    "new=[]\n",
    "for i in train['CategoryName']:\n",
    "    if i in idx:\n",
    "        new.append(i)\n",
    "    else:\n",
    "        \n",
    "        m=z.loc[i]['CategoryName']\n",
    "        if m<=250:\n",
    "            new.append('Cat-OthersI')\n",
    "        elif m>250 and m<=400:\n",
    "            new.append('Cat-OthersII')\n",
    "        elif m>400 and m<=600:\n",
    "            new.append('Cat-OthersIII')\n",
    "        elif m>600 and m<1000:\n",
    "            new.append('Cat-OthersIV')\n",
    "        else:\n",
    "            continue"
   ]
  },
  {
   "cell_type": "code",
   "execution_count": 700,
   "metadata": {},
   "outputs": [],
   "source": [
    "cat['CategoryName']=new"
   ]
  },
  {
   "cell_type": "code",
   "execution_count": 701,
   "metadata": {},
   "outputs": [
    {
     "data": {
      "text/plain": [
       "Cat-2            17297\n",
       "Cat-12           15489\n",
       "Cat-4            14762\n",
       "Cat-50           13551\n",
       "Cat-32           12223\n",
       "Cat-49           10810\n",
       "Cat-13            9564\n",
       "Cat-7             8735\n",
       "Cat-3             7593\n",
       "Cat-OthersII      4763\n",
       "Cat-OthersIV      2929\n",
       "Cat-5             2203\n",
       "Cat-OthersIII     2176\n",
       "Cat-OthersI       2020\n",
       "Cat-20            1232\n",
       "Cat-27            1016\n",
       "dtype: int64"
      ]
     },
     "execution_count": 701,
     "metadata": {},
     "output_type": "execute_result"
    }
   ],
   "source": [
    "pd.Series(new).value_counts()"
   ]
  },
  {
   "cell_type": "code",
   "execution_count": 702,
   "metadata": {},
   "outputs": [],
   "source": [
    "new=[]\n",
    "for i in test['CategoryName']:\n",
    "    if i in idx:\n",
    "        new.append(i)\n",
    "    else:\n",
    "        \n",
    "        m=z.loc[i]['CategoryName']\n",
    "        if m<=250:\n",
    "            new.append('Cat-OthersI')\n",
    "        elif m>250 and m<=400:\n",
    "            new.append('Cat-OthersII')\n",
    "        elif m>400 and m<=600:\n",
    "            new.append('Cat-OthersIII')\n",
    "        elif m>600 and m<1000:\n",
    "            new.append('Cat-OthersIV')\n",
    "        else:\n",
    "            continue"
   ]
  },
  {
   "cell_type": "code",
   "execution_count": 703,
   "metadata": {},
   "outputs": [],
   "source": [
    "test_cat['CategoryName']=new\n"
   ]
  },
  {
   "cell_type": "markdown",
   "metadata": {},
   "source": [
    "## 4---------------------------------------------------------------------------------------"
   ]
  },
  {
   "cell_type": "code",
   "execution_count": 704,
   "metadata": {},
   "outputs": [
    {
     "data": {
      "text/plain": [
       "Cat-2     17297\n",
       "Cat-12    15489\n",
       "Cat-4     14762\n",
       "Cat-50    13551\n",
       "Cat-32    12223\n",
       "Cat-49    10810\n",
       "Cat-13     9564\n",
       "Cat-7      8735\n",
       "Cat-3      7593\n",
       "Cat-5      2203\n",
       "Cat-20     1232\n",
       "Cat-27     1016\n",
       "Cat-19      854\n",
       "Cat-42      799\n",
       "Cat-8       667\n",
       "Cat-41      609\n",
       "Cat-11      458\n",
       "Cat-21      448\n",
       "Cat-29      447\n",
       "Cat-37      418\n",
       "Cat-15      405\n",
       "Cat-48      375\n",
       "Cat-44      365\n",
       "Cat-22      358\n",
       "Cat-36      345\n",
       "Cat-38      336\n",
       "Cat-34      335\n",
       "Cat-45      317\n",
       "Cat-10      311\n",
       "Cat-40      309\n",
       "Cat-16      305\n",
       "Cat-14      304\n",
       "Cat-6       304\n",
       "Cat-33      272\n",
       "Cat-1       265\n",
       "Cat-9       262\n",
       "Cat-39      243\n",
       "Cat-30      230\n",
       "Cat-24      222\n",
       "Cat-47      202\n",
       "Cat-25      202\n",
       "Cat-35      202\n",
       "Cat-23      152\n",
       "Cat-31      137\n",
       "Cat-46      124\n",
       "Cat-18       92\n",
       "Cat-28       82\n",
       "Cat-17       51\n",
       "Cat-43       41\n",
       "Cat-26       40\n",
       "Name: CategoryName, dtype: int64"
      ]
     },
     "execution_count": 704,
     "metadata": {},
     "output_type": "execute_result"
    }
   ],
   "source": [
    "train['CategoryName'].value_counts()"
   ]
  },
  {
   "cell_type": "code",
   "execution_count": 705,
   "metadata": {
    "scrolled": true
   },
   "outputs": [
    {
     "data": {
      "text/plain": [
       "17    17297\n",
       "18    15489\n",
       "24    14762\n",
       "46    13551\n",
       "45    12223\n",
       "48    10810\n",
       "43     9564\n",
       "9      8735\n",
       "29     7593\n",
       "37     1424\n",
       "40     1232\n",
       "36     1016\n",
       "26      854\n",
       "35      799\n",
       "13      779\n",
       "41      667\n",
       "75      609\n",
       "3       458\n",
       "76      448\n",
       "63      447\n",
       "7       418\n",
       "62      405\n",
       "74      375\n",
       "33      365\n",
       "66      358\n",
       "68      345\n",
       "72      336\n",
       "67      335\n",
       "32      317\n",
       "44      311\n",
       "71      309\n",
       "64      305\n",
       "65      304\n",
       "12      304\n",
       "59      272\n",
       "73      265\n",
       "38      262\n",
       "69      243\n",
       "5       230\n",
       "6       222\n",
       "61      202\n",
       "11      202\n",
       "30      202\n",
       "70      152\n",
       "60      137\n",
       "31      124\n",
       "2        92\n",
       "10       82\n",
       "4        51\n",
       "34       41\n",
       "16       40\n",
       "Name: Prod_Category_Id, dtype: int64"
      ]
     },
     "execution_count": 705,
     "metadata": {},
     "output_type": "execute_result"
    }
   ],
   "source": [
    "cat['Prod_Category_Id'].value_counts()"
   ]
  },
  {
   "cell_type": "raw",
   "metadata": {},
   "source": [
    "cat=cat.drop('Prod_Category_Id',axis=1)\n",
    "test_cat=test_cat.drop('Prod_Category_Id',axis=1)\n",
    "#Category Name and Prod Category Id are 2 redundant columns"
   ]
  },
  {
   "cell_type": "markdown",
   "metadata": {},
   "source": [
    "## ---------------------------------------------------------------------------------------"
   ]
  },
  {
   "cell_type": "code",
   "execution_count": 706,
   "metadata": {},
   "outputs": [
    {
     "data": {
      "text/plain": [
       "((54156, 20), (126363, 20))"
      ]
     },
     "execution_count": 706,
     "metadata": {},
     "output_type": "execute_result"
    }
   ],
   "source": [
    "test_cat.shape,cat.shape"
   ]
  },
  {
   "cell_type": "code",
   "execution_count": 707,
   "metadata": {},
   "outputs": [
    {
     "data": {
      "text/plain": [
       "(54156, 166)"
      ]
     },
     "execution_count": 707,
     "metadata": {},
     "output_type": "execute_result"
    }
   ],
   "source": [
    "test_cat=test_cat[test_cat.columns].astype('object')\n",
    "pd.get_dummies(test_cat,drop_first=True).shape"
   ]
  },
  {
   "cell_type": "code",
   "execution_count": 708,
   "metadata": {},
   "outputs": [
    {
     "data": {
      "text/plain": [
       "(126363, 166)"
      ]
     },
     "execution_count": 708,
     "metadata": {},
     "output_type": "execute_result"
    }
   ],
   "source": [
    "cat=cat[cat.columns].astype('object')\n",
    "pd.get_dummies(cat,drop_first=True).shape"
   ]
  },
  {
   "cell_type": "raw",
   "metadata": {},
   "source": [
    "cat=cat.drop('Profit_Loss',axis=1)\n",
    "test_cat=test_cat.drop('Profit_Loss',axis=1)"
   ]
  },
  {
   "cell_type": "code",
   "execution_count": 709,
   "metadata": {},
   "outputs": [],
   "source": [
    "from sklearn.preprocessing import StandardScaler\n",
    "scaler=StandardScaler()"
   ]
  },
  {
   "cell_type": "code",
   "execution_count": 710,
   "metadata": {},
   "outputs": [
    {
     "data": {
      "text/plain": [
       "((126363, 6), (54156, 6))"
      ]
     },
     "execution_count": 710,
     "metadata": {},
     "output_type": "execute_result"
    }
   ],
   "source": [
    "num.shape,test_num.shape"
   ]
  },
  {
   "cell_type": "code",
   "execution_count": 711,
   "metadata": {},
   "outputs": [],
   "source": [
    "scaler.fit(num)\n",
    "\n",
    "\n",
    "numScaler=pd.DataFrame(scaler.transform(num),\n",
    "                       columns=num.columns)\n",
    "test_numScaler=pd.DataFrame(scaler.transform(test_num),\n",
    "                            columns=num.columns)"
   ]
  },
  {
   "cell_type": "code",
   "execution_count": 712,
   "metadata": {},
   "outputs": [
    {
     "data": {
      "text/plain": [
       "Index(['Sales', 'Price', 'Profit_Ratio', 'Order_Profit ', 'ProductLength',\n",
       "       'ProductWeight'],\n",
       "      dtype='object')"
      ]
     },
     "execution_count": 712,
     "metadata": {},
     "output_type": "execute_result"
    }
   ],
   "source": [
    "num.columns"
   ]
  },
  {
   "cell_type": "raw",
   "metadata": {},
   "source": [
    "numScaler=numScaler.drop(['Sales', 'Price'],axis=1)\n",
    "\n",
    "test_numScaler=test_numScaler.drop(['Sales', 'Price'],axis=1)"
   ]
  },
  {
   "cell_type": "code",
   "execution_count": 713,
   "metadata": {},
   "outputs": [],
   "source": [
    "dum=pd.get_dummies(cat)\n",
    "test_dum=pd.get_dummies(test_cat)"
   ]
  },
  {
   "cell_type": "code",
   "execution_count": 714,
   "metadata": {},
   "outputs": [
    {
     "data": {
      "text/plain": [
       "((126363, 192), (54156, 192))"
      ]
     },
     "execution_count": 714,
     "metadata": {},
     "output_type": "execute_result"
    }
   ],
   "source": [
    "X=pd.concat([dum,numScaler],axis=1)\n",
    "test_X=pd.concat([test_dum,test_numScaler],axis=1)\n",
    "X.shape,test_X.shape"
   ]
  },
  {
   "cell_type": "markdown",
   "metadata": {},
   "source": [
    "# -----------------------------------------------------------------------------------------------------------------"
   ]
  },
  {
   "cell_type": "code",
   "execution_count": 715,
   "metadata": {},
   "outputs": [
    {
     "data": {
      "text/plain": [
       "0    84912\n",
       "1    41451\n",
       "Name: Delivery_Status, dtype: int64"
      ]
     },
     "execution_count": 715,
     "metadata": {},
     "output_type": "execute_result"
    }
   ],
   "source": [
    "y.value_counts()"
   ]
  },
  {
   "cell_type": "markdown",
   "metadata": {},
   "source": [
    "### Imbalanced Data"
   ]
  },
  {
   "cell_type": "code",
   "execution_count": 716,
   "metadata": {},
   "outputs": [],
   "source": [
    "from imblearn.over_sampling import SMOTE\n",
    "sm=SMOTE(sampling_strategy=1,k_neighbors=3,n_jobs=-1)"
   ]
  },
  {
   "cell_type": "code",
   "execution_count": 717,
   "metadata": {},
   "outputs": [],
   "source": [
    "X0,y0=sm.fit_resample(X,y)"
   ]
  },
  {
   "cell_type": "code",
   "execution_count": 718,
   "metadata": {},
   "outputs": [
    {
     "data": {
      "text/plain": [
       "(0    84912\n",
       " 1    84912\n",
       " Name: Delivery_Status, dtype: int64,\n",
       " 0    84912\n",
       " 1    41451\n",
       " Name: Delivery_Status, dtype: int64)"
      ]
     },
     "execution_count": 718,
     "metadata": {},
     "output_type": "execute_result"
    }
   ],
   "source": [
    "y0.value_counts(),y.value_counts()"
   ]
  },
  {
   "cell_type": "markdown",
   "metadata": {},
   "source": [
    "### Model"
   ]
  },
  {
   "cell_type": "code",
   "execution_count": 443,
   "metadata": {},
   "outputs": [],
   "source": [
    "from sklearn.tree import DecisionTreeClassifier\n",
    "from sklearn.model_selection import train_test_split, RandomizedSearchCV\n",
    "from sklearn import metrics\n",
    "from sklearn.ensemble import RandomForestClassifier\n",
    "from sklearn.naive_bayes import GaussianNB"
   ]
  },
  {
   "cell_type": "code",
   "execution_count": 719,
   "metadata": {},
   "outputs": [],
   "source": [
    "X_train,X_test,y_train,y_test=train_test_split(X0,y0,test_size=.25)"
   ]
  },
  {
   "cell_type": "code",
   "execution_count": null,
   "metadata": {},
   "outputs": [],
   "source": []
  },
  {
   "cell_type": "code",
   "execution_count": 108,
   "metadata": {},
   "outputs": [
    {
     "data": {
      "text/plain": [
       "1    25488\n",
       "0    25460\n",
       "Name: Delivery_Status, dtype: int64"
      ]
     },
     "execution_count": 108,
     "metadata": {},
     "output_type": "execute_result"
    }
   ],
   "source": [
    "y_test.value_counts()"
   ]
  },
  {
   "cell_type": "markdown",
   "metadata": {},
   "source": [
    "# 1"
   ]
  },
  {
   "cell_type": "code",
   "execution_count": 98,
   "metadata": {},
   "outputs": [
    {
     "data": {
      "text/plain": [
       "DecisionTreeClassifier()"
      ]
     },
     "execution_count": 98,
     "metadata": {},
     "output_type": "execute_result"
    }
   ],
   "source": [
    "Dt=DecisionTreeClassifier()\n",
    "Dt.fit(X_train,y_train)"
   ]
  },
  {
   "cell_type": "code",
   "execution_count": 99,
   "metadata": {},
   "outputs": [
    {
     "name": "stdout",
     "output_type": "stream",
     "text": [
      "              precision    recall  f1-score   support\n",
      "\n",
      "           0       0.79      0.79      0.79     17047\n",
      "           1       0.78      0.79      0.79     16578\n",
      "\n",
      "    accuracy                           0.79     33625\n",
      "   macro avg       0.79      0.79      0.79     33625\n",
      "weighted avg       0.79      0.79      0.79     33625\n",
      "\n",
      "[[13455  3592]\n",
      " [ 3531 13047]]\n"
     ]
    },
    {
     "data": {
      "text/plain": [
       "[<matplotlib.lines.Line2D at 0x16e607b9f70>]"
      ]
     },
     "execution_count": 99,
     "metadata": {},
     "output_type": "execute_result"
    },
    {
     "data": {
      "image/png": "[encoded data removed]",
      "text/plain": [
       "<Figure size 432x288 with 1 Axes>"
      ]
     },
     "metadata": {
      "needs_background": "light"
     },
     "output_type": "display_data"
    }
   ],
   "source": [
    "pred_train=Dt.predict(X_train)\n",
    "pred_test=Dt.predict(X_test)\n",
    "proba=Dt.predict_proba(X_test)\n",
    "print(metrics.classification_report(y_test,pred_test))\n",
    "print(metrics.confusion_matrix(y_test,pred_test))\n",
    "fpr,tpr,th=metrics.roc_curve(y_test,proba[:,1])\n",
    "plt.plot(fpr,tpr,marker='o')\n",
    "plt.plot([0,1],[0,1])"
   ]
  },
  {
   "cell_type": "markdown",
   "metadata": {},
   "source": [
    "# 2"
   ]
  },
  {
   "cell_type": "code",
   "execution_count": 100,
   "metadata": {
    "scrolled": true
   },
   "outputs": [
    {
     "name": "stdout",
     "output_type": "stream",
     "text": [
      "              precision    recall  f1-score   support\n",
      "\n",
      "           0       0.94      0.69      0.79     17047\n",
      "           1       0.75      0.95      0.84     16578\n",
      "\n",
      "    accuracy                           0.82     33625\n",
      "   macro avg       0.84      0.82      0.81     33625\n",
      "weighted avg       0.84      0.82      0.81     33625\n",
      "\n",
      "[[11699  5348]\n",
      " [  808 15770]]\n"
     ]
    },
    {
     "data": {
      "text/plain": [
       "[<matplotlib.lines.Line2D at 0x16e00a4d370>]"
      ]
     },
     "execution_count": 100,
     "metadata": {},
     "output_type": "execute_result"
    },
    {
     "data": {
      "image/png": "[encoded data removed]",
      "text/plain": [
       "<Figure size 432x288 with 1 Axes>"
      ]
     },
     "metadata": {
      "needs_background": "light"
     },
     "output_type": "display_data"
    }
   ],
   "source": [
    "RF=RandomForestClassifier()\n",
    "RF.fit(X_train,y_train)\n",
    "\n",
    "pred_train=RF.predict(X_train)\n",
    "pred_test=RF.predict(X_test)\n",
    "proba=RF.predict_proba(X_test)\n",
    "print(metrics.classification_report(y_test,pred_test))\n",
    "print(metrics.confusion_matrix(y_test,pred_test))\n",
    "fpr,tpr,th=metrics.roc_curve(y_test,proba[:,1])\n",
    "plt.plot(fpr,tpr,marker='o')\n",
    "plt.plot([0,1],[0,1])"
   ]
  },
  {
   "cell_type": "markdown",
   "metadata": {},
   "source": [
    "# 3."
   ]
  },
  {
   "cell_type": "code",
   "execution_count": 101,
   "metadata": {},
   "outputs": [
    {
     "name": "stdout",
     "output_type": "stream",
     "text": [
      "              precision    recall  f1-score   support\n",
      "\n",
      "           0       0.75      0.14      0.24     17047\n",
      "           1       0.52      0.95      0.67     16578\n",
      "\n",
      "    accuracy                           0.54     33625\n",
      "   macro avg       0.64      0.55      0.45     33625\n",
      "weighted avg       0.64      0.54      0.45     33625\n",
      "\n",
      "[[ 2391 14656]\n",
      " [  780 15798]]\n"
     ]
    },
    {
     "data": {
      "text/plain": [
       "[<matplotlib.lines.Line2D at 0x16e0093bd60>]"
      ]
     },
     "execution_count": 101,
     "metadata": {},
     "output_type": "execute_result"
    },
    {
     "data": {
      "image/png": "[encoded data removed]",
      "text/plain": [
       "<Figure size 432x288 with 1 Axes>"
      ]
     },
     "metadata": {
      "needs_background": "light"
     },
     "output_type": "display_data"
    }
   ],
   "source": [
    "Nb=GaussianNB()\n",
    "Nb.fit(X_train,y_train)\n",
    "\n",
    "pred_train=Nb.predict(X_train)\n",
    "pred_test=Nb.predict(X_test)\n",
    "proba=Nb.predict_proba(X_test)\n",
    "print(metrics.classification_report(y_test,pred_test))\n",
    "print(metrics.confusion_matrix(y_test,pred_test))\n",
    "fpr,tpr,th=metrics.roc_curve(y_test,proba[:,1])\n",
    "plt.plot(fpr,tpr,marker='o')\n",
    "plt.plot([0,1],[0,1])"
   ]
  },
  {
   "cell_type": "markdown",
   "metadata": {},
   "source": [
    "# 4."
   ]
  },
  {
   "cell_type": "code",
   "execution_count": 111,
   "metadata": {},
   "outputs": [],
   "source": [
    "from xgboost import XGBClassifier"
   ]
  },
  {
   "cell_type": "code",
   "execution_count": 519,
   "metadata": {
    "scrolled": true
   },
   "outputs": [
    {
     "name": "stdout",
     "output_type": "stream",
     "text": [
      "[19:36:54] WARNING: C:/Users/Administrator/workspace/xgboost-win64_release_1.3.0/src/learner.cc:541: \n",
      "Parameters: { verbose } might not be used.\n",
      "\n",
      "  This may not be accurate due to some parameters are only used in language bindings but\n",
      "  passed down to XGBoost core.  Or some parameters are not used but slip through this\n",
      "  verification. Please open an issue if you find above cases.\n",
      "\n",
      "\n",
      "[19:36:56] WARNING: C:/Users/Administrator/workspace/xgboost-win64_release_1.3.0/src/learner.cc:1061: Starting in XGBoost 1.3.0, the default evaluation metric used with the objective 'binary:logistic' was changed from 'error' to 'logloss'. Explicitly set eval_metric if you'd like to restore the old behavior.\n",
      "              precision    recall  f1-score   support\n",
      "\n",
      "           0       1.00      0.62      0.76     25540\n",
      "           1       0.72      1.00      0.84     25408\n",
      "\n",
      "    accuracy                           0.81     50948\n",
      "   macro avg       0.86      0.81      0.80     50948\n",
      "weighted avg       0.86      0.81      0.80     50948\n",
      "\n",
      "[[15738  9802]\n",
      " [   68 25340]]\n"
     ]
    }
   ],
   "source": [
    "XGB=XGBClassifier(use_label_encoder=False,n_estimators=100,learning_rate=.01,gamma=.5,n_jobs=-1,verbose=3)\n",
    "XGB.fit(X_train,y_train)\n",
    "\n",
    "#pred_train=XGB.predict(X_train)\n",
    "pred_test=XGB.predict(X_test)\n",
    "#proba=XGB.predict_proba(X_test)\n",
    "print(metrics.classification_report(y_test,pred_test))\n",
    "print(metrics.confusion_matrix(y_test,pred_test))\n",
    "\n",
    "#fpr,tpr,th=metrics.roc_curve(y_test,proba[:,1])\n",
    "#plt.plot(fpr,tpr,marker='o')\n",
    "#plt.plot([0,1],[0,1])"
   ]
  },
  {
   "cell_type": "markdown",
   "metadata": {},
   "source": [
    "# 4.2"
   ]
  },
  {
   "cell_type": "code",
   "execution_count": 720,
   "metadata": {},
   "outputs": [
    {
     "name": "stdout",
     "output_type": "stream",
     "text": [
      "[20:03:41] WARNING: C:/Users/Administrator/workspace/xgboost-win64_release_1.3.0/src/learner.cc:1061: Starting in XGBoost 1.3.0, the default evaluation metric used with the objective 'binary:logistic' was changed from 'error' to 'logloss'. Explicitly set eval_metric if you'd like to restore the old behavior.\n",
      "              precision    recall  f1-score   support\n",
      "\n",
      "           0       1.00      0.62      0.76     21091\n",
      "           1       0.73      1.00      0.84     21365\n",
      "\n",
      "    accuracy                           0.81     42456\n",
      "   macro avg       0.86      0.81      0.80     42456\n",
      "weighted avg       0.86      0.81      0.80     42456\n",
      "\n",
      "[[13062  8029]\n",
      " [   56 21309]]\n"
     ]
    },
    {
     "data": {
      "text/plain": [
       "[<matplotlib.lines.Line2D at 0x1cbefc94850>]"
      ]
     },
     "execution_count": 720,
     "metadata": {},
     "output_type": "execute_result"
    },
    {
     "data": {
      "image/png": "[encoded data removed]",
      "text/plain": [
       "<Figure size 432x288 with 1 Axes>"
      ]
     },
     "metadata": {
      "needs_background": "light"
     },
     "output_type": "display_data"
    }
   ],
   "source": [
    "XGB=XGBClassifier(use_label_encoder=False,n_estimators=125,learning_rate=.01,gamma=.5)\n",
    "XGB.fit(X_train,y_train)\n",
    "\n",
    "pred_train=XGB.predict(X_train)\n",
    "pred_test=XGB.predict(X_test)\n",
    "proba=XGB.predict_proba(X_test)\n",
    "print(metrics.classification_report(y_test,pred_test))\n",
    "print(metrics.confusion_matrix(y_test,pred_test))\n",
    "fpr,tpr,th=metrics.roc_curve(y_test,proba[:,1])\n",
    "plt.plot(fpr,tpr,marker='o')\n",
    "plt.plot([0,1],[0,1])"
   ]
  },
  {
   "cell_type": "markdown",
   "metadata": {},
   "source": [
    "### ------------------------------------------------------------------------------------------------------"
   ]
  },
  {
   "cell_type": "code",
   "execution_count": 262,
   "metadata": {},
   "outputs": [],
   "source": [
    "sub=pd.DataFrame(index=test['OrderId'])"
   ]
  },
  {
   "cell_type": "code",
   "execution_count": 721,
   "metadata": {},
   "outputs": [
    {
     "name": "stdout",
     "output_type": "stream",
     "text": [
      "1    31559\n",
      "0    22597\n",
      "Name: Delivery_Status, dtype: int64\n"
     ]
    }
   ],
   "source": [
    "sub['Delivery_Status']=XGB.predict(test_X)\n",
    "print(sub['Delivery_Status'].value_counts())\n",
    "\n",
    "sub.to_csv('Submission.csv')"
   ]
  },
  {
   "cell_type": "code",
   "execution_count": null,
   "metadata": {},
   "outputs": [],
   "source": []
  }
 ],
 "metadata": {
  "kernelspec": {
   "display_name": "Python 3",
   "language": "python",
   "name": "python3"
  },
  "language_info": {
   "codemirror_mode": {
    "name": "ipython",
    "version": 3
   },
   "file_extension": ".py",
   "mimetype": "text/x-python",
   "name": "python",
   "nbconvert_exporter": "python",
   "pygments_lexer": "ipython3",
   "version": "3.8.3"
  }
 },
 "nbformat": 4,
 "nbformat_minor": 4
}
